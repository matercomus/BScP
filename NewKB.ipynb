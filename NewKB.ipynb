{
 "cells": [
  {
   "cell_type": "code",
   "execution_count": 21,
   "outputs": [],
   "source": [
    "import random"
   ],
   "metadata": {
    "collapsed": false
   }
  },
  {
   "cell_type": "code",
   "execution_count": 22,
   "outputs": [],
   "source": [
    "\n",
    "global status\n",
    "global DEVICE_ID\n",
    "DEVICE_ID = \"Lamp_1\"\n",
    "status = \"off\"\n",
    "power_consumption = 0"
   ],
   "metadata": {
    "collapsed": false
   }
  },
  {
   "cell_type": "code",
   "execution_count": 23,
   "outputs": [],
   "source": [
    "# GET /lamp\n",
    "def lamp_status():\n",
    "    if status == \"off\":\n",
    "        power_consumption = 0\n",
    "    else:\n",
    "        power_consumption = random.randint(0, 10)\n",
    "    return {\"DeviceID\":DEVICE_ID,\"status\": status, \"power_consumption\": power_consumption}\n"
   ],
   "metadata": {
    "collapsed": false
   }
  },
  {
   "cell_type": "code",
   "execution_count": 24,
   "outputs": [],
   "source": [
    "# GET /lamp/power_consumption\n",
    "def power_consumption():\n",
    "    if status == \"off\":\n",
    "        power_consumption = 0\n",
    "    else:\n",
    "        power_consumption = random.randint(0, 10)\n",
    "    return {\"DeviceID\":DEVICE_ID,\"power_consumption\": power_consumption}\n"
   ],
   "metadata": {
    "collapsed": false
   }
  },
  {
   "cell_type": "code",
   "execution_count": 25,
   "outputs": [],
   "source": [
    "# GET /lamp/toggle\n",
    "def toggle_lamp():\n",
    "    if status == \"on\":\n",
    "        status = \"off\"\n",
    "    else:\n",
    "        status = \"on\"\n",
    "    return {\"DeviceID\":DEVICE_ID,\"status\": status}\n"
   ],
   "metadata": {
    "collapsed": false
   }
  }
 ],
 "metadata": {
  "kernelspec": {
   "display_name": "Python 3",
   "language": "python",
   "name": "python3"
  },
  "language_info": {
   "codemirror_mode": {
    "name": "ipython",
    "version": 2
   },
   "file_extension": ".py",
   "mimetype": "text/x-python",
   "name": "python",
   "nbconvert_exporter": "python",
   "pygments_lexer": "ipython2",
   "version": "2.7.6"
  }
 },
 "nbformat": 4,
 "nbformat_minor": 0
}
