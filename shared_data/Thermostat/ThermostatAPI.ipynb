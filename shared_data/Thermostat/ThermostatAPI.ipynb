{
 "cells": [
  {
   "cell_type": "code",
   "execution_count": 9,
   "metadata": {},
   "outputs": [],
   "source": [
    "# Simple thermostat API using FastAPI\n",
    "# importing libraries\n",
    "from fastapi import FastAPI, Depends\n",
    "import uvicorn\n",
    "import nest_asyncio\n",
    "\n",
    "app = FastAPI()\n"
   ]
  },
  {
   "cell_type": "code",
   "execution_count": 10,
   "metadata": {
    "collapsed": false,
    "jupyter": {
     "outputs_hidden": false
    }
   },
   "outputs": [],
   "source": [
    "# Defining the thermostat class\n",
    "class Thermostat:\n",
    "    def __init__(self,\n",
    "                 name: str,\n",
    "                 temperature: int,\n",
    "                 humidity: int,\n",
    "                 mode: str,\n",
    "                 kb_id: str,\n",
    "                 ):\n",
    "        self.name = name\n",
    "        self.temperature = temperature\n",
    "        self.humidity = humidity\n",
    "        self.mode = mode\n",
    "        self.kb_id = kb_id\n"
   ]
  },
  {
   "cell_type": "code",
   "execution_count": 11,
   "metadata": {
    "collapsed": false,
    "jupyter": {
     "outputs_hidden": false
    }
   },
   "outputs": [],
   "source": [
    "# Creating a thermostat object\n",
    "thermostat = Thermostat(name=\"Thermostat\",\n",
    "                        temperature=20,\n",
    "                        humidity=50,\n",
    "                        mode=\"cool\",\n",
    "                        kb_id=\"http://127.0.0.1:8000/thermostat\",\n",
    "                        )"
   ]
  },
  {
   "cell_type": "code",
   "execution_count": 12,
   "metadata": {
    "collapsed": false,
    "jupyter": {
     "outputs_hidden": false
    }
   },
   "outputs": [
    {
     "data": {
      "text/plain": "{'name': 'Thermostat',\n 'temperature': 20,\n 'humidity': 50,\n 'mode': 'cool',\n 'kb_id': 'http://127.0.0.1:8000/thermostat'}"
     },
     "execution_count": 12,
     "metadata": {},
     "output_type": "execute_result"
    }
   ],
   "source": [
    "thermostat.__dict__"
   ]
  },
  {
   "cell_type": "code",
   "execution_count": 13,
   "metadata": {
    "collapsed": false,
    "jupyter": {
     "outputs_hidden": false
    }
   },
   "outputs": [],
   "source": [
    "# Defining the API endpoints\n",
    "@app.get(\"/\")\n",
    "async def root():\n",
    "    return {\"message\": \"Welcome to the thermostat API\"}\n",
    "\n",
    "\n",
    "@app.get(\"/thermostat\")\n",
    "async def get_thermostat():\n",
    "    return thermostat.__dict__\n",
    "\n",
    "\n",
    "@app.get(\"/thermostat/name\")\n",
    "async def get_name():\n",
    "    return thermostat.name\n",
    "\n",
    "\n",
    "@app.get(\"/thermostat/temperature\")\n",
    "async def get_temperature():\n",
    "    return thermostat.temperature\n",
    "\n",
    "\n",
    "@app.get(\"/thermostat/humidity\")\n",
    "async def get_humidity():\n",
    "    return thermostat.humidity\n",
    "\n",
    "\n",
    "@app.get(\"/thermostat/mode\")\n",
    "async def get_mode():\n",
    "    return thermostat.mode\n",
    "\n",
    "\n",
    "@app.get(\"/thermostat/kb_id\")\n",
    "async def get_kb_id():\n",
    "    return thermostat.kb_id\n",
    "\n",
    "\n",
    "@app.put(\"/thermostat\")\n",
    "async def set_thermostat(commons: Thermostat = Depends()):\n",
    "    thermostat.name = commons.name\n",
    "    thermostat.temperature = commons.temperature\n",
    "    thermostat.humidity = commons.humidity\n",
    "    thermostat.mode = commons.mode\n",
    "    thermostat.kb_id = commons.kb_id\n",
    "\n",
    "    return thermostat.__dict__\n",
    "\n",
    "\n",
    "@app.put(\"/thermostat/temperature\")\n",
    "async def set_temperature(temperature: int):\n",
    "    thermostat.temperature = temperature\n",
    "    return thermostat.temperature\n",
    "\n",
    "\n",
    "@app.put(\"/thermostat/humidity\")\n",
    "async def set_humidity(humidity: int):\n",
    "    thermostat.humidity = humidity\n",
    "    return thermostat.humidity\n",
    "\n",
    "\n",
    "@app.put(\"/thermostat/mode\")\n",
    "async def set_mode(mode: str):\n",
    "    thermostat.mode = mode\n",
    "    return thermostat.mode\n",
    "\n",
    "\n",
    "@app.put(\"/thermostat/name\")\n",
    "async def set_name(name: str):\n",
    "    thermostat.name = name\n",
    "    return thermostat.name\n",
    "\n",
    "\n",
    "@app.put(\"/thermostat/kb_id\")\n",
    "async def set_kb_id(kb_id: str):\n",
    "    thermostat.kb_id = kb_id\n",
    "    return thermostat.kb_id\n"
   ]
  },
  {
   "cell_type": "code",
   "execution_count": 61,
   "outputs": [],
   "source": [
    "# Defining constants\n",
    "\n",
    "# Knowledge engine REST API URL\n",
    "URL = \"http://127.0.0.1:8280/rest\"\n",
    "\n",
    "# Knowledge engine REST API headers\n",
    "HEADERS = {\n",
    "    'Content-Type': 'application/json',\n",
    "    'Knowledge-Base-Id': thermostat.kb_id,\n",
    "}\n"
   ],
   "metadata": {
    "collapsed": false
   }
  },
  {
   "cell_type": "code",
   "execution_count": 62,
   "outputs": [
    {
     "name": "stdout",
     "output_type": "stream",
     "text": [
      "200\n",
      "\n"
     ]
    }
   ],
   "source": [
    "# register API in the knowledge engine\n",
    "import httpx\n",
    "\n",
    "\n",
    "# Creating a smart connector\n",
    "def create_smart_connector():\n",
    "    # Smart connector data\n",
    "    sc_data = {\n",
    "        \"knowledgeBaseId\": thermostat.kb_id,\n",
    "        \"knowledgeBaseName\": thermostat.name,\n",
    "        \"knowledgeBaseDescription\": \"Thermostat API v0.0.1 for the Smart Home\",\n",
    "        \"reasonerEnabled\": \"false\",\n",
    "    }\n",
    "\n",
    "    # Registering the smart connector via the /sc endpoint\n",
    "    response = httpx.post(URL + \"/sc\", headers=HEADERS, json=sc_data)\n",
    "\n",
    "    print(response.status_code)\n",
    "    print(response.text)\n",
    "\n",
    "\n",
    "create_smart_connector()"
   ],
   "metadata": {
    "collapsed": false
   }
  },
  {
   "cell_type": "code",
   "execution_count": 63,
   "outputs": [
    {
     "name": "stdout",
     "output_type": "stream",
     "text": [
      "200\n",
      "[{\"knowledgeBaseId\":\"http://127.0.0.1:8000/thermostat\",\"knowledgeBaseName\":\"Thermostat\",\"knowledgeBaseDescription\":\"Thermostat API v0.0.1 for the Smart Home\",\"reasonerEnabled\":false}]\n"
     ]
    }
   ],
   "source": [
    "# check if the smart connector is registered\n",
    "def check_smart_connector():\n",
    "    response = httpx.get(URL + \"/sc\", headers=HEADERS)\n",
    "    print(response.status_code)\n",
    "    print(response.text)\n",
    "\n",
    "\n",
    "check_smart_connector()\n"
   ],
   "metadata": {
    "collapsed": false
   }
  },
  {
   "cell_type": "code",
   "execution_count": 64,
   "outputs": [
    {
     "name": "stdout",
     "output_type": "stream",
     "text": [
      "200\n",
      "{\"knowledgeInteractionId\":\"http://127.0.0.1:8000/thermostat/interaction/489aa242-b1e5-4309-9a1d-c464ff068095\"}\n"
     ]
    }
   ],
   "source": [
    "# register an ANSWER Knowledge Interaction with the smart connector\n",
    "def register_answer_ki():\n",
    "    answer_ki_data = {\n",
    "        \"knowledgeInteractionType\": \"AnswerKnowledgeInteraction\",\n",
    "        \"prefixes\": {\"rdf\": \"http://www.w3.org/1999/02/22-rdf-syntax-ns#\",\n",
    "                     \"saref\": \"https://w3id.org/saref#\",\n",
    "                     },\n",
    "\n",
    "        \"graphPattern\": '''?meas rdf:type saref:Measurement .\n",
    "                            ?meas saref:hasValue ?temp .\n",
    "                            ?meas saref:isMeasuredIn saref:TemperatureUnit .\n",
    "                            ?meas saref:hasTimestamp ?timestamp .\n",
    "                            ?meas saref:isMeasurementOf ?room_id .\n",
    "                            ?meas saref:relatesToProperty saref:Temperature .\n",
    "                            ?meas saref:measurementMadeBy ?device_id .'''\n",
    "    }\n",
    "\n",
    "    response = httpx.post(URL + \"/sc/ki\", headers=HEADERS, json=answer_ki_data)\n",
    "    print(response.status_code)\n",
    "    print(response.text)\n",
    "\n",
    "\n",
    "register_answer_ki()\n"
   ],
   "metadata": {
    "collapsed": false
   }
  },
  {
   "cell_type": "code",
   "execution_count": 65,
   "outputs": [
    {
     "data": {
      "text/plain": "[{'knowledgeInteractionId': 'http://127.0.0.1:8000/thermostat/interaction/489aa242-b1e5-4309-9a1d-c464ff068095',\n  'knowledgeInteractionType': 'AnswerKnowledgeInteraction',\n  'communicativeAct': {'requiredPurposes': ['https://w3id.org/knowledge-engine/InformPurpose'],\n   'satisfiedPurposes': ['https://w3id.org/knowledge-engine/InformPurpose']},\n  'graphPattern': '?meas <http://www.w3.org/1999/02/22-rdf-syntax-ns#type> <https://w3id.org/saref#Measurement> . ?meas <https://w3id.org/saref#hasValue> ?temp . ?meas <https://w3id.org/saref#isMeasuredIn> <https://w3id.org/saref#TemperatureUnit> . ?meas <https://w3id.org/saref#hasTimestamp> ?timestamp . ?meas <https://w3id.org/saref#isMeasurementOf> ?room_id . ?meas <https://w3id.org/saref#relatesToProperty> <https://w3id.org/saref#Temperature> . ?meas <https://w3id.org/saref#measurementMadeBy> ?device_id . '}]"
     },
     "execution_count": 65,
     "metadata": {},
     "output_type": "execute_result"
    }
   ],
   "source": [
    "# check if the Knowledge Interaction is registered\n",
    "def list_all_kis():\n",
    "    response = httpx.get(URL + \"/sc/ki\", headers=HEADERS)\n",
    "    return response.json()\n",
    "\n",
    "\n",
    "list_all_kis()"
   ],
   "metadata": {
    "collapsed": false
   }
  },
  {
   "cell_type": "code",
   "execution_count": 66,
   "outputs": [
    {
     "name": "stdout",
     "output_type": "stream",
     "text": [
      "200\n",
      "{\"knowledgeInteractionId\":\"http://127.0.0.1:8000/thermostat/interaction/489aa242-b1e5-4309-9a1d-c464ff068095\",\"handleRequestId\":1,\"bindingSet\":[],\"requestingKnowledgeBaseId\":\"http://127.0.0.1:8000/subscriber\"}\n",
      "200\n",
      "\n"
     ]
    }
   ],
   "source": [
    "# Start waiting for a handle request for the given Knowledge Base Id.\n",
    "def handle_and_answer():\n",
    "    response = httpx.get(URL + \"/sc/handle\", headers=HEADERS, timeout=None)\n",
    "    print(response.status_code)\n",
    "    print(response.text)\n",
    "    ki_id = list_all_kis()[-1]['knowledgeInteractionId']\n",
    "    answer_headers = {\n",
    "        'Content-Type': 'application/json',\n",
    "        'Knowledge-Base-Id': thermostat.kb_id,\n",
    "        'Knowledge-Interaction-Id': ki_id,\n",
    "    }\n",
    "    handle_request_id = response.json()[\"handleRequestId\"]\n",
    "    answer_binding_set = [{\n",
    "        \"meas\": \"<https://www.example.org/meas1>\",\n",
    "        \"temp\": f'\"{thermostat.temperature}\"',\n",
    "        \"timestamp\": '\"2016-12-01T15:31:10-05:00\"',\n",
    "        \"room_id\": '\"1\"',\n",
    "        \"device_id\": '\"id1\"',\n",
    "    }]\n",
    "\n",
    "    # Answering the handle request\n",
    "    answer_data = {\n",
    "        \"handleRequestId\": handle_request_id,\n",
    "        \"bindingSet\": answer_binding_set,\n",
    "    }\n",
    "\n",
    "    response = httpx.post(URL + \"/sc/handle\", headers=answer_headers, json=answer_data)\n",
    "    print(response.status_code)\n",
    "    print(response.text)\n",
    "\n",
    "\n",
    "handle_and_answer()"
   ],
   "metadata": {
    "collapsed": false
   }
  },
  {
   "cell_type": "code",
   "execution_count": null,
   "outputs": [],
   "source": [
    "'''?meas rdf:type saref:Measurement .\n",
    "                            ?meas saref:hasValue ?temp .\n",
    "                            ?meas saref:isMeasuredIn saref:TemperatureUnit .\n",
    "                            ?meas saref:hasTimestamp ?timestamp .\n",
    "                            ?meas saref:isMeasurementOf ?room_id .\n",
    "                            ?meas saref:relatesToProperty saref:Temperature .\n",
    "                            ?meas saref:measurementMadeBy ?device_id .'''"
   ],
   "metadata": {
    "collapsed": false
   }
  },
  {
   "cell_type": "code",
   "execution_count": null,
   "metadata": {
    "collapsed": false,
    "jupyter": {
     "outputs_hidden": false
    },
    "pycharm": {
     "is_executing": true
    }
   },
   "outputs": [
    {
     "name": "stderr",
     "output_type": "stream",
     "text": [
      "INFO:     Started server process [12495]\n",
      "INFO:     Waiting for application startup.\n",
      "INFO:     Application startup complete.\n",
      "INFO:     Uvicorn running on http://127.0.0.1:8000 (Press CTRL+C to quit)\n"
     ]
    },
    {
     "name": "stdout",
     "output_type": "stream",
     "text": [
      "INFO:     127.0.0.1:35722 - \"GET / HTTP/1.1\" 200 OK\n",
      "INFO:     127.0.0.1:56016 - \"GET /docs HTTP/1.1\" 200 OK\n",
      "INFO:     127.0.0.1:56016 - \"GET /openapi.json HTTP/1.1\" 200 OK\n"
     ]
    }
   ],
   "source": [
    "# Running the API\n",
    "if __name__ == \"__main__\":\n",
    "    nest_asyncio.apply()\n",
    "    #uvicorn.run(app, host=\"0.0.0.0\", port=8001)\n",
    "    uvicorn.run(app)"
   ]
  },
  {
   "cell_type": "code",
   "execution_count": null,
   "outputs": [],
   "source": [],
   "metadata": {
    "collapsed": false
   }
  }
 ],
 "metadata": {
  "kernelspec": {
   "display_name": "Python 3 (ipykernel)",
   "language": "python",
   "name": "python3"
  },
  "language_info": {
   "codemirror_mode": {
    "name": "ipython",
    "version": 3
   },
   "file_extension": ".py",
   "mimetype": "text/x-python",
   "name": "python",
   "nbconvert_exporter": "python",
   "pygments_lexer": "ipython3",
   "version": "3.10.8"
  }
 },
 "nbformat": 4,
 "nbformat_minor": 4
}
