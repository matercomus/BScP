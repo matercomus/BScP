{
 "cells": [
  {
   "cell_type": "code",
   "execution_count": 77,
   "metadata": {},
   "outputs": [],
   "source": [
    "# Simple thermostat API using FastAPI\n",
    "# importing libraries\n",
    "from fastapi import FastAPI, Depends\n",
    "import uvicorn\n",
    "import nest_asyncio\n",
    "import random\n",
    "import json\n",
    "\n",
    "app = FastAPI()\n"
   ]
  },
  {
   "cell_type": "code",
   "execution_count": 78,
   "metadata": {
    "collapsed": false,
    "jupyter": {
     "outputs_hidden": false
    }
   },
   "outputs": [],
   "source": [
    "# Defining the thermostat class\n",
    "class Thermostat:\n",
    "    def __init__(self,\n",
    "                 name: str,\n",
    "                 temperature: int,\n",
    "                 humidity: int,\n",
    "                 mode: str):\n",
    "        self.name = name\n",
    "        self.temperature = temperature\n",
    "        self.humidity = humidity\n",
    "        self.mode = mode\n",
    "\n",
    "    def get_temperature(self):\n",
    "        return self.temperature\n",
    "\n",
    "    def get_humidity(self):\n",
    "        return self.humidity\n",
    "\n",
    "    def get_mode(self):\n",
    "        return self.mode\n",
    "\n",
    "    def get_name(self):\n",
    "        return self.name\n",
    "\n",
    "    def get_json(self):\n",
    "        return self.__dict__\n",
    "\n",
    "    def set_temperature(self, temperature: int):\n",
    "        self.temperature = temperature\n",
    "\n",
    "    def set_humidity(self, humidity: int):\n",
    "        self.humidity = humidity\n",
    "\n",
    "    def set_mode(self, mode: str):\n",
    "        self.mode = mode\n",
    "\n",
    "    def set_name(self, name: str):\n",
    "        self.name = name\n"
   ]
  },
  {
   "cell_type": "code",
   "execution_count": 79,
   "metadata": {
    "collapsed": false,
    "jupyter": {
     "outputs_hidden": false
    }
   },
   "outputs": [],
   "source": [
    "# Creating a thermostat object\n",
    "thermostat = Thermostat(name=\"Thermostat\",\n",
    "                        temperature=20,\n",
    "                        humidity=50,\n",
    "                        mode=\"cool\")"
   ]
  },
  {
   "cell_type": "code",
   "execution_count": 80,
   "metadata": {
    "collapsed": false,
    "jupyter": {
     "outputs_hidden": false
    }
   },
   "outputs": [
    {
     "data": {
      "text/plain": "{'name': 'Thermostat', 'temperature': 20, 'humidity': 50, 'mode': 'cool'}"
     },
     "execution_count": 80,
     "metadata": {},
     "output_type": "execute_result"
    }
   ],
   "source": [
    "thermostat.get_json()"
   ]
  },
  {
   "cell_type": "code",
   "execution_count": 81,
   "metadata": {
    "collapsed": false,
    "jupyter": {
     "outputs_hidden": false
    }
   },
   "outputs": [],
   "source": [
    "# Defining the API endpoints\n",
    "@app.get(\"/\")\n",
    "async def root():\n",
    "    return {\"message\": \"Welcome to the thermostat API\"}\n",
    "\n",
    "@app.get(\"/thermostat\")\n",
    "async def get_thermostat():\n",
    "    return thermostat.get_json()\n",
    "\n",
    "@app.get(\"/thermostat/temperature\")\n",
    "async def get_temperature():\n",
    "    return thermostat.get_temperature()\n",
    "\n",
    "@app.get(\"/thermostat/humidity\")\n",
    "async def get_humidity():\n",
    "    return thermostat.get_humidity()\n",
    "\n",
    "@app.get(\"/thermostat/mode\")\n",
    "async def get_mode():\n",
    "    return thermostat.get_mode()\n",
    "\n",
    "@app.get(\"/thermostat/name\")\n",
    "async def get_name():\n",
    "    return thermostat.get_name()\n",
    "\n",
    "@app.put(\"/thermostat/temperature\")\n",
    "async def set_temperature(temperature: int):\n",
    "    thermostat.set_temperature(temperature)\n",
    "    return thermostat.get_temperature()\n",
    "\n",
    "@app.put(\"/thermostat/humidity\")\n",
    "async def set_humidity(humidity: int):\n",
    "    thermostat.set_humidity(humidity)\n",
    "    return thermostat.get_humidity()\n",
    "\n",
    "@app.put(\"/thermostat/mode\")\n",
    "async def set_mode(mode: str):\n",
    "    thermostat.set_mode(mode)\n",
    "    return thermostat.get_mode()\n",
    "\n",
    "@app.put(\"/thermostat/name\")\n",
    "async def set_name(name: str):\n",
    "    thermostat.set_name(name)\n",
    "    return thermostat.get_name()\n"
   ]
  },
  {
   "cell_type": "code",
   "execution_count": 50,
   "outputs": [
    {
     "name": "stdout",
     "output_type": "stream",
     "text": [
      "URL:\n",
      " http://127.0.0.1:8280/rest\n",
      "\n",
      "Headers:\n",
      " {'Content-Type': 'application/json', 'Knowledge-Base-Id': 'http://127.0.0.1:8000/thermostat'}\n",
      "\n",
      "Smart connector data:\n",
      " {'knowledgeBaseId': 'http://127.0.0.1:8000/thermostat', 'knowledgeBaseName': 'Thermostat API v0.0.1', 'knowledgeBaseDescription': 'Thermostat API v0.0.1 for the Smart Home', 'reasonerEnabled': 'false'}\n",
      "\n",
      "<Response [200 OK]>\n",
      "\n"
     ]
    }
   ],
   "source": [
    "# register API in the knowledge engine\n",
    "import httpx\n",
    "\n",
    "# Knowledge engine REST API URL\n",
    "URL = \"http://127.0.0.1:8280/rest\"\n",
    "\n",
    "# Creating a smart connector\n",
    "def create_smart_connector():\n",
    "    # Smart connector data\n",
    "    sc_data = {\n",
    "        \"knowledgeBaseId\": \"http://127.0.0.1:8000/thermostat\",\n",
    "        \"knowledgeBaseName\": \"Thermostat API v0.0.1\",\n",
    "        \"knowledgeBaseDescription\": \"Thermostat API v0.0.1 for the Smart Home\",\n",
    "        \"reasonerEnabled\": \"false\",\n",
    "    }\n",
    "\n",
    "    headers = {\n",
    "        'accept': 'application/json; charset=UTF-8',\n",
    "        \"knowledgeBaseId\": \"http://127.0.0.1:8000/thermostat\",\n",
    "    }\n",
    "\n",
    "    headers2 = {\n",
    "        #'accept': 'application/json,\n",
    "        'Content-Type': 'application/json',\n",
    "        'Knowledge-Base-Id': \"http://127.0.0.1:8000/thermostat\",\n",
    "\n",
    "    }\n",
    "\n",
    "    # Registering the smart connector\n",
    "    response = httpx.post(URL + \"/sc\", headers=headers2, json=sc_data)\n",
    "\n",
    "    print(f'URL:\\n {URL}\\n')\n",
    "    print(f'Headers:\\n {headers2}\\n')\n",
    "    print(f'Smart connector data:\\n {sc_data}\\n')\n",
    "    print(response)\n",
    "    print(f'Response text: {response.text}')\n",
    "\n",
    "create_smart_connector()"
   ],
   "metadata": {
    "collapsed": false
   }
  },
  {
   "cell_type": "code",
   "execution_count": 55,
   "outputs": [
    {
     "name": "stdout",
     "output_type": "stream",
     "text": [
      "URL:\n",
      " http://127.0.0.1:8280/rest\n",
      "\n",
      "Headers:\n",
      " {'Content-Type': 'application/json', 'Knowledge-Base-Id': 'http://127.0.0.1:8000/thermostat'}\n",
      "\n",
      "<Response [200 OK]>\n",
      "Response text:\n",
      "[{\"knowledgeBaseId\":\"http://127.0.0.1:8000/thermostat\",\"knowledgeBaseName\":\"Thermostat API v0.0.1\",\"knowledgeBaseDescription\":\"Thermostat API v0.0.1 for the Smart Home\",\"reasonerEnabled\":false}]\n"
     ]
    }
   ],
   "source": [
    "# check if the smart connector is registered\n",
    "def check_smart_connector():\n",
    "    headers2 = {\n",
    "        #'accept': 'application/json,\n",
    "        'Content-Type': 'application/json',\n",
    "        'Knowledge-Base-Id': \"http://127.0.0.1:8000/thermostat\",\n",
    "\n",
    "    }\n",
    "\n",
    "    response = httpx.get(URL + \"/sc\", headers=headers2)\n",
    "\n",
    "    print(f'URL:\\n {URL}\\n')\n",
    "    print(f'Headers:\\n {headers2}\\n')\n",
    "    print(response)\n",
    "    print(f'Response text:\\n{response.text}')\n",
    "\n",
    "check_smart_connector()"
   ],
   "metadata": {
    "collapsed": false
   }
  },
  {
   "cell_type": "code",
   "execution_count": 56,
   "outputs": [
    {
     "name": "stdout",
     "output_type": "stream",
     "text": [
      "URL:\n",
      " http://127.0.0.1:8280/rest\n",
      "\n",
      "Headers:\n",
      " {'Content-Type': 'application/json', 'Knowledge-Base-Id': 'http://127.0.0.1:8000/thermostat'}\n",
      "\n",
      "<Response [200 OK]>\n",
      "Response text:\n",
      "{\"knowledgeInteractionId\":\"http://127.0.0.1:8000/thermostat/interaction/8a276462-0f9c-44ca-8619-bd55a0e3ccb8\"}\n"
     ]
    }
   ],
   "source": [
    "# register an ASK Knowledge Interaction with the smart connector\n",
    "def register_ask_ki():\n",
    "    headers2 = {\n",
    "        'Content-Type': 'application/json',\n",
    "        'Knowledge-Base-Id': \"http://127.0.0.1:8000/thermostat\",\n",
    "    }\n",
    "\n",
    "    ask_ki_data = {\n",
    "        \"knowledgeInteractionType\": \"AskKnowledgeInteraction\",\n",
    "        \"graphPattern\": \"?s <https://www.vizlore.com/predicate> ?o\",\n",
    "    }\n",
    "\n",
    "    response = httpx.post(URL + \"/sc/ki\", headers=headers2, json=ask_ki_data)\n",
    "\n",
    "    print(f'URL:\\n {URL}\\n')\n",
    "    print(f'Headers:\\n {headers2}\\n')\n",
    "    print(response)\n",
    "    print(f'Response text:\\n{response.text}')\n",
    "\n",
    "register_ask_ki()\n"
   ],
   "metadata": {
    "collapsed": false
   }
  },
  {
   "cell_type": "code",
   "execution_count": 57,
   "outputs": [
    {
     "name": "stdout",
     "output_type": "stream",
     "text": [
      "URL:\n",
      " http://127.0.0.1:8280/rest\n",
      "\n",
      "Headers:\n",
      " {'Content-Type': 'application/json', 'Knowledge-Base-Id': 'http://127.0.0.1:8000/thermostat'}\n",
      "\n",
      "<Response [200 OK]>\n",
      "Response text:\n",
      "[{\"knowledgeBaseId\":\"http://127.0.0.1:8000/thermostat\",\"knowledgeBaseName\":\"Thermostat API v0.0.1\",\"knowledgeBaseDescription\":\"Thermostat API v0.0.1 for the Smart Home\",\"reasonerEnabled\":false}]\n"
     ]
    }
   ],
   "source": [
    "check_smart_connector()"
   ],
   "metadata": {
    "collapsed": false
   }
  },
  {
   "cell_type": "code",
   "execution_count": null,
   "outputs": [],
   "source": [
    "# check if the ASK Knowledge Interaction is registered\n"
   ],
   "metadata": {
    "collapsed": false
   }
  },
  {
   "cell_type": "code",
   "execution_count": 26,
   "metadata": {
    "collapsed": false,
    "jupyter": {
     "outputs_hidden": false
    }
   },
   "outputs": [
    {
     "ename": "NameError",
     "evalue": "name 'nest_asyncio' is not defined",
     "output_type": "error",
     "traceback": [
      "\u001B[0;31m---------------------------------------------------------------------------\u001B[0m",
      "\u001B[0;31mNameError\u001B[0m                                 Traceback (most recent call last)",
      "Input \u001B[0;32mIn [26]\u001B[0m, in \u001B[0;36m<cell line: 2>\u001B[0;34m()\u001B[0m\n\u001B[1;32m      1\u001B[0m \u001B[38;5;66;03m# Running the API\u001B[39;00m\n\u001B[1;32m      2\u001B[0m \u001B[38;5;28;01mif\u001B[39;00m \u001B[38;5;18m__name__\u001B[39m \u001B[38;5;241m==\u001B[39m \u001B[38;5;124m\"\u001B[39m\u001B[38;5;124m__main__\u001B[39m\u001B[38;5;124m\"\u001B[39m:\n\u001B[0;32m----> 3\u001B[0m     \u001B[43mnest_asyncio\u001B[49m\u001B[38;5;241m.\u001B[39mapply()\n\u001B[1;32m      4\u001B[0m     \u001B[38;5;66;03m#uvicorn.run(app, host=\"0.0.0.0\", port=8001)\u001B[39;00m\n\u001B[1;32m      5\u001B[0m     uvicorn\u001B[38;5;241m.\u001B[39mrun(app)\n",
      "\u001B[0;31mNameError\u001B[0m: name 'nest_asyncio' is not defined"
     ]
    }
   ],
   "source": [
    "# Running the API\n",
    "if __name__ == \"__main__\":\n",
    "    nest_asyncio.apply()\n",
    "    #uvicorn.run(app, host=\"0.0.0.0\", port=8001)\n",
    "    uvicorn.run(app)"
   ]
  },
  {
   "cell_type": "code",
   "execution_count": 82,
   "metadata": {
    "collapsed": false,
    "jupyter": {
     "outputs_hidden": false
    }
   },
   "outputs": [],
   "source": []
  }
 ],
 "metadata": {
  "kernelspec": {
   "display_name": "Python 3 (ipykernel)",
   "language": "python",
   "name": "python3"
  },
  "language_info": {
   "codemirror_mode": {
    "name": "ipython",
    "version": 3
   },
   "file_extension": ".py",
   "mimetype": "text/x-python",
   "name": "python",
   "nbconvert_exporter": "python",
   "pygments_lexer": "ipython3",
   "version": "3.10.8"
  }
 },
 "nbformat": 4,
 "nbformat_minor": 4
}
