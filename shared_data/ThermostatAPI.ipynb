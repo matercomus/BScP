{
 "cells": [
  {
   "cell_type": "code",
   "execution_count": 1,
   "metadata": {
    "collapsed": true
   },
   "outputs": [],
   "source": [
    "# Simple thermostat API using FastAPI\n",
    "# importing libraries\n",
    "from fastapi import FastAPI\n",
    "import uvicorn\n",
    "import nest_asyncio\n",
    "import random\n",
    "import json\n",
    "\n",
    "app = FastAPI()\n"
   ]
  },
  {
   "cell_type": "code",
   "execution_count": null,
   "outputs": [],
   "source": [
    "# Defining the thermostat class\n",
    "class Thermostat:\n",
    "    def __init__(self, name: str, temperature: int, humidity: int, mode: str):\n",
    "        self.name = name\n",
    "        self.temperature = temperature\n",
    "        self.humidity = humidity\n",
    "        self.mode = mode\n",
    "\n",
    "    def __str__(self):\n",
    "        return f\"Thermostat {self.name} is set to {self.temperature} degrees and {self.humidity}% humidity in {self.mode} mode.\"\n",
    "\n",
    "    def set_temperature(self, temperature: int):\n",
    "        self.temperature = temperature\n",
    "\n",
    "    def set_humidity(self, humidity: int):\n",
    "        self.humidity = humidity\n",
    "\n",
    "    def set_mode(self, mode: str):\n",
    "        self.mode = mode\n",
    "\n",
    "    def get_temperature(self):\n",
    "        return self.temperature\n",
    "\n",
    "    def get_humidity(self):\n",
    "        return self.humidity\n",
    "\n",
    "    def get_mode(self):\n",
    "        return self.mode\n",
    "\n",
    "    def get_name(self):\n",
    "        return self.name\n",
    "\n",
    "    def get_json(self):\n",
    "        return json.dumps(self.__dict__)\n"
   ],
   "metadata": {
    "collapsed": false
   }
  }
 ],
 "metadata": {
  "kernelspec": {
   "display_name": "Python 3",
   "language": "python",
   "name": "python3"
  },
  "language_info": {
   "codemirror_mode": {
    "name": "ipython",
    "version": 2
   },
   "file_extension": ".py",
   "mimetype": "text/x-python",
   "name": "python",
   "nbconvert_exporter": "python",
   "pygments_lexer": "ipython2",
   "version": "2.7.6"
  }
 },
 "nbformat": 4,
 "nbformat_minor": 0
}
