{
 "cells": [
  {
   "cell_type": "code",
   "execution_count": 7,
   "metadata": {},
   "outputs": [],
   "source": [
    "# Simple thermostat API using FastAPI\n",
    "# importing libraries\n",
    "from fastapi import FastAPI, Depends\n",
    "import uvicorn\n",
    "import nest_asyncio\n",
    "import random\n",
    "import json\n",
    "\n",
    "app = FastAPI()\n"
   ]
  },
  {
   "cell_type": "code",
   "execution_count": 8,
   "metadata": {
    "collapsed": false,
    "jupyter": {
     "outputs_hidden": false
    }
   },
   "outputs": [],
   "source": [
    "# Defining the thermostat class\n",
    "class Thermostat:\n",
    "    def __init__(self,\n",
    "                 name: str,\n",
    "                 temperature: int,\n",
    "                 humidity: int,\n",
    "                 mode: str,\n",
    "                 kb_id: str,\n",
    "                 ):\n",
    "\n",
    "        self.name = name\n",
    "        self.temperature = temperature\n",
    "        self.humidity = humidity\n",
    "        self.mode = mode\n",
    "        self.kb_id = kb_id\n",
    "\n",
    "    # Getters\n",
    "    def get_name(self):\n",
    "        return self.name\n",
    "\n",
    "    def get_temperature(self):\n",
    "        return self.temperature\n",
    "\n",
    "    def get_humidity(self):\n",
    "        return self.humidity\n",
    "\n",
    "    def get_mode(self):\n",
    "        return self.mode\n",
    "\n",
    "    def get_kb_id(self):\n",
    "        return self.kb_id\n",
    "\n",
    "    def get_json(self):\n",
    "        return self.__dict__\n",
    "\n",
    "    # Setters\n",
    "    def set_temperature(self, temperature: int):\n",
    "        self.temperature = temperature\n",
    "\n",
    "    def set_humidity(self, humidity: int):\n",
    "        self.humidity = humidity\n",
    "\n",
    "    def set_mode(self, mode: str):\n",
    "        self.mode = mode\n",
    "\n",
    "    def set_name(self, name: str):\n",
    "        self.name = name\n"
   ]
  },
  {
   "cell_type": "code",
   "execution_count": 9,
   "metadata": {
    "collapsed": false,
    "jupyter": {
     "outputs_hidden": false
    }
   },
   "outputs": [],
   "source": [
    "# Creating a thermostat object\n",
    "thermostat = Thermostat(name=\"Thermostat\",\n",
    "                        temperature=20,\n",
    "                        humidity=50,\n",
    "                        mode=\"cool\",\n",
    "                        kb_id=\"http://127.0.0.1:8000/thermostat\",\n",
    "                        )"
   ]
  },
  {
   "cell_type": "code",
   "execution_count": 10,
   "metadata": {
    "collapsed": false,
    "jupyter": {
     "outputs_hidden": false
    }
   },
   "outputs": [
    {
     "data": {
      "text/plain": "{'name': 'Thermostat',\n 'temperature': 20,\n 'humidity': 50,\n 'mode': 'cool',\n 'kb_id': 'http://127.0.0.1:8000/thermostat'}"
     },
     "execution_count": 10,
     "metadata": {},
     "output_type": "execute_result"
    }
   ],
   "source": [
    "thermostat.get_json()"
   ]
  },
  {
   "cell_type": "code",
   "execution_count": 11,
   "metadata": {
    "collapsed": false,
    "jupyter": {
     "outputs_hidden": false
    }
   },
   "outputs": [],
   "source": [
    "# Defining the API endpoints\n",
    "@app.get(\"/\")\n",
    "async def root():\n",
    "    return {\"message\": \"Welcome to the thermostat API\"}\n",
    "\n",
    "@app.get(\"/thermostat\")\n",
    "async def get_thermostat():\n",
    "    return thermostat.get_json()\n",
    "\n",
    "@app.get(\"/thermostat/name\")\n",
    "async def get_name():\n",
    "    return thermostat.get_name()\n",
    "\n",
    "@app.get(\"/thermostat/temperature\")\n",
    "async def get_temperature():\n",
    "    return thermostat.get_temperature()\n",
    "\n",
    "@app.get(\"/thermostat/humidity\")\n",
    "async def get_humidity():\n",
    "    return thermostat.get_humidity()\n",
    "\n",
    "@app.get(\"/thermostat/mode\")\n",
    "async def get_mode():\n",
    "    return thermostat.get_mode()\n",
    "\n",
    "@app.get(\"/thermostat/kb_id\")\n",
    "async def get_kb_id():\n",
    "    return thermostat.get_kb_id()\n",
    "\n",
    "@app.put(\"/thermostat/temperature\")\n",
    "async def set_temperature(temperature: int):\n",
    "    thermostat.set_temperature(temperature)\n",
    "    return thermostat.get_temperature()\n",
    "\n",
    "@app.put(\"/thermostat/humidity\")\n",
    "async def set_humidity(humidity: int):\n",
    "    thermostat.set_humidity(humidity)\n",
    "    return thermostat.get_humidity()\n",
    "\n",
    "@app.put(\"/thermostat/mode\")\n",
    "async def set_mode(mode: str):\n",
    "    thermostat.set_mode(mode)\n",
    "    return thermostat.get_mode()\n",
    "\n",
    "@app.put(\"/thermostat/name\")\n",
    "async def set_name(name: str):\n",
    "    thermostat.set_name(name)\n",
    "    return thermostat.get_name()\n"
   ]
  },
  {
   "cell_type": "code",
   "execution_count": 13,
   "outputs": [
    {
     "name": "stdout",
     "output_type": "stream",
     "text": [
      "URL:\n",
      " http://127.0.0.1:8280/rest\n",
      "\n",
      "Headers:\n",
      " {'Content-Type': 'application/json', 'Knowledge-Base-Id': 'http://127.0.0.1:8000/thermostat'}\n",
      "\n",
      "Smart connector data:\n",
      " {'knowledgeBaseId': 'http://127.0.0.1:8000/thermostat', 'knowledgeBaseName': 'Thermostat API v0.0.1', 'knowledgeBaseDescription': 'Thermostat API v0.0.1 for the Smart Home', 'reasonerEnabled': 'false'}\n",
      "\n",
      "<Response [200 OK]>\n",
      "Response text: \n"
     ]
    }
   ],
   "source": [
    "# register API in the knowledge engine\n",
    "import httpx\n",
    "\n",
    "# Knowledge engine REST API URL\n",
    "URL = \"http://127.0.0.1:8280/rest\"\n",
    "\n",
    "# Knowledge engine REST API headers\n",
    "HEADERS = {\n",
    "    'Content-Type': 'application/json',\n",
    "    'Knowledge-Base-Id': \"http://127.0.0.1:8000/thermostat\",\n",
    "}\n",
    "\n",
    "# Creating a smart connector\n",
    "def create_smart_connector():\n",
    "    # Smart connector data\n",
    "    sc_data = {\n",
    "        \"knowledgeBaseId\": \"http://127.0.0.1:8000/thermostat\",\n",
    "        \"knowledgeBaseName\": \"Thermostat API v0.0.1\",\n",
    "        \"knowledgeBaseDescription\": \"Thermostat API v0.0.1 for the Smart Home\",\n",
    "        \"reasonerEnabled\": \"false\",\n",
    "    }\n",
    "\n",
    "    # Registering the smart connector\n",
    "    response = httpx.post(URL + \"/sc\", headers=HEADERS, json=sc_data)\n",
    "\n",
    "    print(f'URL:\\n {URL}\\n')\n",
    "    print(f'Headers:\\n {HEADERS}\\n')\n",
    "    print(f'Smart connector data:\\n {sc_data}\\n')\n",
    "    print(response)\n",
    "    print(f'Response text: {response.text}')\n",
    "\n",
    "create_smart_connector()"
   ],
   "metadata": {
    "collapsed": false
   }
  },
  {
   "cell_type": "code",
   "execution_count": 14,
   "outputs": [
    {
     "name": "stdout",
     "output_type": "stream",
     "text": [
      "URL:\n",
      " http://127.0.0.1:8280/rest\n",
      "\n",
      "Headers:\n",
      " {'Content-Type': 'application/json', 'Knowledge-Base-Id': 'http://127.0.0.1:8000/thermostat'}\n",
      "\n",
      "<Response [200 OK]>\n",
      "Response text:\n",
      "[{\"knowledgeBaseId\":\"http://127.0.0.1:8000/thermostat\",\"knowledgeBaseName\":\"Thermostat API v0.0.1\",\"knowledgeBaseDescription\":\"Thermostat API v0.0.1 for the Smart Home\",\"reasonerEnabled\":false}]\n"
     ]
    }
   ],
   "source": [
    "# check if the smart connector is registered\n",
    "def check_smart_connector():\n",
    "    headers2 = {\n",
    "        #'accept': 'application/json,\n",
    "        'Content-Type': 'application/json',\n",
    "        'Knowledge-Base-Id': \"http://127.0.0.1:8000/thermostat\",\n",
    "\n",
    "    }\n",
    "\n",
    "    response = httpx.get(URL + \"/sc\", headers=headers2)\n",
    "\n",
    "    print(f'URL:\\n {URL}\\n')\n",
    "    print(f'Headers:\\n {headers2}\\n')\n",
    "    print(response)\n",
    "    print(f'Response text:\\n{response.text}')\n",
    "\n",
    "check_smart_connector()"
   ],
   "metadata": {
    "collapsed": false
   }
  },
  {
   "cell_type": "code",
   "execution_count": 15,
   "outputs": [
    {
     "name": "stdout",
     "output_type": "stream",
     "text": [
      "URL:\n",
      " http://127.0.0.1:8280/rest\n",
      "\n",
      "Headers:\n",
      " {'Content-Type': 'application/json', 'Knowledge-Base-Id': 'http://127.0.0.1:8000/thermostat'}\n",
      "\n",
      "<Response [200 OK]>\n",
      "Response text:\n",
      "{\"knowledgeInteractionId\":\"http://127.0.0.1:8000/thermostat/interaction/0285bc86-13d4-4835-a2b7-80f61b3d1523\"}\n"
     ]
    }
   ],
   "source": [
    "# register an ANSWER Knowledge Interaction with the smart connector\n",
    "def register_answer_ki():\n",
    "    headers2 = {\n",
    "        'Content-Type': 'application/json',\n",
    "        'Knowledge-Base-Id': \"http://127.0.0.1:8000/thermostat\",\n",
    "    }\n",
    "\n",
    "    answer_ki_data = {\n",
    "        \"knowledgeInteractionType\": \"AnswerKnowledgeInteraction\",\n",
    "        \"prefixes\": {\"rdf\": \"http://www.w3.org/1999/02/22-rdf-syntax-ns#\",\n",
    "                    \"ex\": \"http://example.org/\",\n",
    "                     },\n",
    "\n",
    "        \"graphPattern\":\"?d rdf:type 'Device' . ?d ex:hasName 'Thermostat'. ?d ex:hasTemperature ?temperature. ?d ex:hasHumidity ?humidity. ?d ex:hasMode ?mode. ?d ex:hasName ?name.\"\n",
    "    }\n",
    "\n",
    "    response = httpx.post(URL + \"/sc/ki\", headers=headers2, json=answer_ki_data)\n",
    "\n",
    "    print(f'URL:\\n {URL}\\n')\n",
    "    print(f'Headers:\\n {headers2}\\n')\n",
    "    print(response)\n",
    "    print(f'Response text:\\n{response.text}')\n",
    "\n",
    "register_answer_ki()\n"
   ],
   "metadata": {
    "collapsed": false
   }
  },
  {
   "cell_type": "code",
   "execution_count": 16,
   "outputs": [
    {
     "name": "stdout",
     "output_type": "stream",
     "text": [
      "URL:\n",
      " http://127.0.0.1:8280/rest\n",
      "\n",
      "Headers:\n",
      " {'Content-Type': 'application/json', 'Knowledge-Base-Id': 'http://127.0.0.1:8000/thermostat'}\n",
      "\n",
      "<Response [404 Not Found]>\n",
      "Response text:\n",
      "{\"messageType\":\"error\",\"message\":\"This knowledge base has been suspended due to inactivity. Please reregister the knowledge base and its knowledge interactions.\"}\n"
     ]
    }
   ],
   "source": [
    "# check if the Knowledge Interaction is registered\n",
    "def list_all_kis():\n",
    "    headers2 = {\n",
    "        'Content-Type': 'application/json',\n",
    "        'Knowledge-Base-Id': \"http://127.0.0.1:8000/thermostat\",\n",
    "    }\n",
    "\n",
    "    response = httpx.get(URL + \"/sc/ki\", headers=headers2)\n",
    "\n",
    "    print(f'URL:\\n {URL}\\n')\n",
    "    print(f'Headers:\\n {headers2}\\n')\n",
    "    print(response)\n",
    "    print(f'Response text:\\n{response.text}')\n",
    "\n",
    "list_all_kis()\n"
   ],
   "metadata": {
    "collapsed": false
   }
  },
  {
   "cell_type": "code",
   "execution_count": null,
   "outputs": [],
   "source": [],
   "metadata": {
    "collapsed": false
   }
  },
  {
   "cell_type": "code",
   "execution_count": null,
   "outputs": [],
   "source": [],
   "metadata": {
    "collapsed": false
   }
  },
  {
   "cell_type": "code",
   "execution_count": 12,
   "metadata": {
    "collapsed": false,
    "jupyter": {
     "outputs_hidden": false
    }
   },
   "outputs": [
    {
     "name": "stderr",
     "output_type": "stream",
     "text": [
      "INFO:     Started server process [4964]\n",
      "INFO:     Waiting for application startup.\n",
      "INFO:     Application startup complete.\n",
      "INFO:     Uvicorn running on http://127.0.0.1:8000 (Press CTRL+C to quit)\n"
     ]
    },
    {
     "name": "stdout",
     "output_type": "stream",
     "text": [
      "INFO:     127.0.0.1:42736 - \"GET /docs HTTP/1.1\" 200 OK\n",
      "INFO:     127.0.0.1:42736 - \"GET /openapi.json HTTP/1.1\" 200 OK\n",
      "INFO:     127.0.0.1:42742 - \"GET /docs HTTP/1.1\" 200 OK\n",
      "INFO:     127.0.0.1:42742 - \"GET /openapi.json HTTP/1.1\" 200 OK\n",
      "INFO:     127.0.0.1:47088 - \"GET /docs HTTP/1.1\" 200 OK\n",
      "INFO:     127.0.0.1:47088 - \"GET /openapi.json HTTP/1.1\" 200 OK\n"
     ]
    },
    {
     "name": "stderr",
     "output_type": "stream",
     "text": [
      "INFO:     Shutting down\n",
      "INFO:     Waiting for application shutdown.\n",
      "INFO:     Application shutdown complete.\n",
      "INFO:     Finished server process [4964]\n"
     ]
    }
   ],
   "source": [
    "# Running the API\n",
    "if __name__ == \"__main__\":\n",
    "    nest_asyncio.apply()\n",
    "    #uvicorn.run(app, host=\"0.0.0.0\", port=8001)\n",
    "    uvicorn.run(app)"
   ]
  }
 ],
 "metadata": {
  "kernelspec": {
   "display_name": "Python 3 (ipykernel)",
   "language": "python",
   "name": "python3"
  },
  "language_info": {
   "codemirror_mode": {
    "name": "ipython",
    "version": 3
   },
   "file_extension": ".py",
   "mimetype": "text/x-python",
   "name": "python",
   "nbconvert_exporter": "python",
   "pygments_lexer": "ipython3",
   "version": "3.10.8"
  }
 },
 "nbformat": 4,
 "nbformat_minor": 4
}
