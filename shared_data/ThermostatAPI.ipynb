{
 "cells": [
  {
   "cell_type": "code",
   "execution_count": 13,
   "metadata": {
    "collapsed": true
   },
   "outputs": [],
   "source": [
    "# Simple thermostat API using FastAPI\n",
    "# importing libraries\n",
    "from fastapi import FastAPI, Depends\n",
    "import uvicorn\n",
    "import nest_asyncio\n",
    "import random\n",
    "import json\n",
    "\n",
    "app = FastAPI()\n"
   ]
  },
  {
   "cell_type": "code",
   "execution_count": 14,
   "outputs": [],
   "source": [
    "# Defining the thermostat class\n",
    "class Thermostat:\n",
    "    def __init__(self,\n",
    "                 name: str,\n",
    "                 temperature: int,\n",
    "                 humidity: int,\n",
    "                 mode: str):\n",
    "        self.name = name\n",
    "        self.temperature = temperature\n",
    "        self.humidity = humidity\n",
    "        self.mode = mode\n",
    "\n",
    "    def get_temperature(self):\n",
    "        return self.temperature\n",
    "\n",
    "    async def get_humidity(self):\n",
    "        return self.humidity\n",
    "\n",
    "    def get_mode(self):\n",
    "        return self.mode\n",
    "\n",
    "    def get_name(self):\n",
    "        return self.name\n",
    "\n",
    "    def get_json(self):\n",
    "        return json.dumps(self.__dict__)\n",
    "\n",
    "    def set_temperature(self, temperature: int):\n",
    "        self.temperature = temperature\n",
    "\n",
    "    def set_humidity(self, humidity: int):\n",
    "        self.humidity = humidity\n",
    "\n",
    "    def set_mode(self, mode: str):\n",
    "        self.mode = mode"
   ],
   "metadata": {
    "collapsed": false
   }
  },
  {
   "cell_type": "code",
   "execution_count": 15,
   "outputs": [],
   "source": [
    "# Creating a thermostat object\n",
    "thermostat = Thermostat(name=\"Thermostat\",\n",
    "                        temperature=20,\n",
    "                        humidity=50,\n",
    "                        mode=\"cool\")"
   ],
   "metadata": {
    "collapsed": false
   }
  },
  {
   "cell_type": "code",
   "execution_count": 16,
   "outputs": [
    {
     "data": {
      "text/plain": "'{\"name\": \"Thermostat\", \"temperature\": 20, \"humidity\": 50, \"mode\": \"cool\"}'"
     },
     "execution_count": 16,
     "metadata": {},
     "output_type": "execute_result"
    }
   ],
   "source": [
    "thermostat.get_json()"
   ],
   "metadata": {
    "collapsed": false
   }
  },
  {
   "cell_type": "code",
   "execution_count": 17,
   "outputs": [],
   "source": [
    "# Defining the API endpoints\n",
    "@app.get(\"/\")\n",
    "async def root():\n",
    "    return {\"message\": \"Welcome to the thermostat API\"}\n",
    "\n",
    "@app.get(\"/thermostat\")\n",
    "async def get_thermostat():\n",
    "    return thermostat.get_json()\n",
    "\n",
    "@app.get(\"/thermostat/temperature\")\n",
    "async def get_temperature():\n",
    "    return thermostat.get_temperature()\n",
    "\n",
    "@app.get(\"/thermostat/humidity\")\n",
    "async def get_humidity():\n",
    "    return thermostat.get_humidity()\n",
    "\n",
    "@app.get(\"/thermostat/mode\")\n",
    "async def get_mode():\n",
    "    return thermostat.get_mode()\n",
    "\n",
    "@app.get(\"/thermostat/name\")\n",
    "async def get_name():\n",
    "    return thermostat.get_name()\n",
    "\n",
    "@app.put(\"/thermostat/temperature\")\n",
    "async def set_temperature(temperature: int):\n",
    "    thermostat.set_temperature(temperature)\n",
    "    return thermostat.get_temperature()\n",
    "\n",
    "@app.put(\"/thermostat/humidity\")\n",
    "async def set_humidity(humidity: int):\n",
    "    thermostat.set_humidity(humidity)\n",
    "    return thermostat.get_humidity()\n",
    "\n",
    "@app.put(\"/thermostat/mode\")\n",
    "async def set_mode(mode: str):\n",
    "    thermostat.set_mode(mode)\n",
    "    return thermostat.get_mode()\n",
    "\n",
    "@app.put(\"/thermostat/name\")\n",
    "async def set_name(name: str):\n",
    "    thermostat.set_name(name)\n",
    "    return thermostat.get_name()\n"
   ],
   "metadata": {
    "collapsed": false
   }
  },
  {
   "cell_type": "code",
   "execution_count": null,
   "outputs": [
    {
     "name": "stderr",
     "output_type": "stream",
     "text": [
      "INFO:     Started server process [13855]\n",
      "INFO:     Waiting for application startup.\n",
      "INFO:     Application startup complete.\n",
      "INFO:     Uvicorn running on http://127.0.0.1:8000 (Press CTRL+C to quit)\n"
     ]
    },
    {
     "name": "stdout",
     "output_type": "stream",
     "text": [
      "INFO:     127.0.0.1:40280 - \"GET /docs HTTP/1.1\" 200 OK\n",
      "INFO:     127.0.0.1:40280 - \"GET /openapi.json HTTP/1.1\" 200 OK\n",
      "INFO:     127.0.0.1:53194 - \"GET / HTTP/1.1\" 200 OK\n",
      "INFO:     127.0.0.1:54724 - \"GET /thermostat HTTP/1.1\" 200 OK\n",
      "INFO:     127.0.0.1:46006 - \"GET /thermostat/temperature HTTP/1.1\" 200 OK\n",
      "INFO:     127.0.0.1:58420 - \"PUT /thermostat/temperature?temperature=200 HTTP/1.1\" 200 OK\n",
      "INFO:     127.0.0.1:50180 - \"GET /thermostat/humidity HTTP/1.1\" 500 Internal Server Error\n"
     ]
    },
    {
     "name": "stderr",
     "output_type": "stream",
     "text": [
      "ERROR:    Exception in ASGI application\n",
      "Traceback (most recent call last):\n",
      "  File \"/home/matt/.local/lib/python3.10/site-packages/fastapi/encoders.py\", line 152, in jsonable_encoder\n",
      "    data = dict(obj)\n",
      "TypeError: 'coroutine' object is not iterable\n",
      "\n",
      "During handling of the above exception, another exception occurred:\n",
      "\n",
      "Traceback (most recent call last):\n",
      "  File \"/home/matt/.local/lib/python3.10/site-packages/fastapi/encoders.py\", line 157, in jsonable_encoder\n",
      "    data = vars(obj)\n",
      "TypeError: vars() argument must have __dict__ attribute\n",
      "\n",
      "The above exception was the direct cause of the following exception:\n",
      "\n",
      "Traceback (most recent call last):\n",
      "  File \"/home/matt/.local/lib/python3.10/site-packages/uvicorn/protocols/http/h11_impl.py\", line 407, in run_asgi\n",
      "    result = await app(  # type: ignore[func-returns-value]\n",
      "  File \"/home/matt/.local/lib/python3.10/site-packages/uvicorn/middleware/proxy_headers.py\", line 78, in __call__\n",
      "    return await self.app(scope, receive, send)\n",
      "  File \"/home/matt/.local/lib/python3.10/site-packages/fastapi/applications.py\", line 270, in __call__\n",
      "    await super().__call__(scope, receive, send)\n",
      "  File \"/home/matt/.local/lib/python3.10/site-packages/starlette/applications.py\", line 124, in __call__\n",
      "    await self.middleware_stack(scope, receive, send)\n",
      "  File \"/home/matt/.local/lib/python3.10/site-packages/starlette/middleware/errors.py\", line 184, in __call__\n",
      "    raise exc\n",
      "  File \"/home/matt/.local/lib/python3.10/site-packages/starlette/middleware/errors.py\", line 162, in __call__\n",
      "    await self.app(scope, receive, _send)\n",
      "  File \"/home/matt/.local/lib/python3.10/site-packages/starlette/middleware/exceptions.py\", line 79, in __call__\n",
      "    raise exc\n",
      "  File \"/home/matt/.local/lib/python3.10/site-packages/starlette/middleware/exceptions.py\", line 68, in __call__\n",
      "    await self.app(scope, receive, sender)\n",
      "  File \"/home/matt/.local/lib/python3.10/site-packages/fastapi/middleware/asyncexitstack.py\", line 21, in __call__\n",
      "    raise e\n",
      "  File \"/home/matt/.local/lib/python3.10/site-packages/fastapi/middleware/asyncexitstack.py\", line 18, in __call__\n",
      "    await self.app(scope, receive, send)\n",
      "  File \"/home/matt/.local/lib/python3.10/site-packages/starlette/routing.py\", line 706, in __call__\n",
      "    await route.handle(scope, receive, send)\n",
      "  File \"/home/matt/.local/lib/python3.10/site-packages/starlette/routing.py\", line 276, in handle\n",
      "    await self.app(scope, receive, send)\n",
      "  File \"/home/matt/.local/lib/python3.10/site-packages/starlette/routing.py\", line 66, in app\n",
      "    response = await func(request)\n",
      "  File \"/home/matt/.local/lib/python3.10/site-packages/fastapi/routing.py\", line 255, in app\n",
      "    content = await serialize_response(\n",
      "  File \"/home/matt/.local/lib/python3.10/site-packages/fastapi/routing.py\", line 152, in serialize_response\n",
      "    return jsonable_encoder(response_content)\n",
      "  File \"/home/matt/.local/lib/python3.10/site-packages/fastapi/encoders.py\", line 160, in jsonable_encoder\n",
      "    raise ValueError(errors) from e\n",
      "ValueError: [TypeError(\"'coroutine' object is not iterable\"), TypeError('vars() argument must have __dict__ attribute')]\n"
     ]
    },
    {
     "name": "stdout",
     "output_type": "stream",
     "text": [
      "INFO:     127.0.0.1:39260 - \"GET /thermostat/humidity HTTP/1.1\" 500 Internal Server Error\n"
     ]
    },
    {
     "name": "stderr",
     "output_type": "stream",
     "text": [
      "ERROR:    Exception in ASGI application\n",
      "Traceback (most recent call last):\n",
      "  File \"/home/matt/.local/lib/python3.10/site-packages/fastapi/encoders.py\", line 152, in jsonable_encoder\n",
      "    data = dict(obj)\n",
      "TypeError: 'coroutine' object is not iterable\n",
      "\n",
      "During handling of the above exception, another exception occurred:\n",
      "\n",
      "Traceback (most recent call last):\n",
      "  File \"/home/matt/.local/lib/python3.10/site-packages/fastapi/encoders.py\", line 157, in jsonable_encoder\n",
      "    data = vars(obj)\n",
      "TypeError: vars() argument must have __dict__ attribute\n",
      "\n",
      "The above exception was the direct cause of the following exception:\n",
      "\n",
      "Traceback (most recent call last):\n",
      "  File \"/home/matt/.local/lib/python3.10/site-packages/uvicorn/protocols/http/h11_impl.py\", line 407, in run_asgi\n",
      "    result = await app(  # type: ignore[func-returns-value]\n",
      "  File \"/home/matt/.local/lib/python3.10/site-packages/uvicorn/middleware/proxy_headers.py\", line 78, in __call__\n",
      "    return await self.app(scope, receive, send)\n",
      "  File \"/home/matt/.local/lib/python3.10/site-packages/fastapi/applications.py\", line 270, in __call__\n",
      "    await super().__call__(scope, receive, send)\n",
      "  File \"/home/matt/.local/lib/python3.10/site-packages/starlette/applications.py\", line 124, in __call__\n",
      "    await self.middleware_stack(scope, receive, send)\n",
      "  File \"/home/matt/.local/lib/python3.10/site-packages/starlette/middleware/errors.py\", line 184, in __call__\n",
      "    raise exc\n",
      "  File \"/home/matt/.local/lib/python3.10/site-packages/starlette/middleware/errors.py\", line 162, in __call__\n",
      "    await self.app(scope, receive, _send)\n",
      "  File \"/home/matt/.local/lib/python3.10/site-packages/starlette/middleware/exceptions.py\", line 79, in __call__\n",
      "    raise exc\n",
      "  File \"/home/matt/.local/lib/python3.10/site-packages/starlette/middleware/exceptions.py\", line 68, in __call__\n",
      "    await self.app(scope, receive, sender)\n",
      "  File \"/home/matt/.local/lib/python3.10/site-packages/fastapi/middleware/asyncexitstack.py\", line 21, in __call__\n",
      "    raise e\n",
      "  File \"/home/matt/.local/lib/python3.10/site-packages/fastapi/middleware/asyncexitstack.py\", line 18, in __call__\n",
      "    await self.app(scope, receive, send)\n",
      "  File \"/home/matt/.local/lib/python3.10/site-packages/starlette/routing.py\", line 706, in __call__\n",
      "    await route.handle(scope, receive, send)\n",
      "  File \"/home/matt/.local/lib/python3.10/site-packages/starlette/routing.py\", line 276, in handle\n",
      "    await self.app(scope, receive, send)\n",
      "  File \"/home/matt/.local/lib/python3.10/site-packages/starlette/routing.py\", line 66, in app\n",
      "    response = await func(request)\n",
      "  File \"/home/matt/.local/lib/python3.10/site-packages/fastapi/routing.py\", line 255, in app\n",
      "    content = await serialize_response(\n",
      "  File \"/home/matt/.local/lib/python3.10/site-packages/fastapi/routing.py\", line 152, in serialize_response\n",
      "    return jsonable_encoder(response_content)\n",
      "  File \"/home/matt/.local/lib/python3.10/site-packages/fastapi/encoders.py\", line 160, in jsonable_encoder\n",
      "    raise ValueError(errors) from e\n",
      "ValueError: [TypeError(\"'coroutine' object is not iterable\"), TypeError('vars() argument must have __dict__ attribute')]\n"
     ]
    },
    {
     "name": "stdout",
     "output_type": "stream",
     "text": [
      "INFO:     127.0.0.1:54444 - \"PUT /thermostat/humidity?humidity=500 HTTP/1.1\" 500 Internal Server Error\n"
     ]
    },
    {
     "name": "stderr",
     "output_type": "stream",
     "text": [
      "ERROR:    Exception in ASGI application\n",
      "Traceback (most recent call last):\n",
      "  File \"/home/matt/.local/lib/python3.10/site-packages/fastapi/encoders.py\", line 152, in jsonable_encoder\n",
      "    data = dict(obj)\n",
      "TypeError: 'coroutine' object is not iterable\n",
      "\n",
      "During handling of the above exception, another exception occurred:\n",
      "\n",
      "Traceback (most recent call last):\n",
      "  File \"/home/matt/.local/lib/python3.10/site-packages/fastapi/encoders.py\", line 157, in jsonable_encoder\n",
      "    data = vars(obj)\n",
      "TypeError: vars() argument must have __dict__ attribute\n",
      "\n",
      "The above exception was the direct cause of the following exception:\n",
      "\n",
      "Traceback (most recent call last):\n",
      "  File \"/home/matt/.local/lib/python3.10/site-packages/uvicorn/protocols/http/h11_impl.py\", line 407, in run_asgi\n",
      "    result = await app(  # type: ignore[func-returns-value]\n",
      "  File \"/home/matt/.local/lib/python3.10/site-packages/uvicorn/middleware/proxy_headers.py\", line 78, in __call__\n",
      "    return await self.app(scope, receive, send)\n",
      "  File \"/home/matt/.local/lib/python3.10/site-packages/fastapi/applications.py\", line 270, in __call__\n",
      "    await super().__call__(scope, receive, send)\n",
      "  File \"/home/matt/.local/lib/python3.10/site-packages/starlette/applications.py\", line 124, in __call__\n",
      "    await self.middleware_stack(scope, receive, send)\n",
      "  File \"/home/matt/.local/lib/python3.10/site-packages/starlette/middleware/errors.py\", line 184, in __call__\n",
      "    raise exc\n",
      "  File \"/home/matt/.local/lib/python3.10/site-packages/starlette/middleware/errors.py\", line 162, in __call__\n",
      "    await self.app(scope, receive, _send)\n",
      "  File \"/home/matt/.local/lib/python3.10/site-packages/starlette/middleware/exceptions.py\", line 79, in __call__\n",
      "    raise exc\n",
      "  File \"/home/matt/.local/lib/python3.10/site-packages/starlette/middleware/exceptions.py\", line 68, in __call__\n",
      "    await self.app(scope, receive, sender)\n",
      "  File \"/home/matt/.local/lib/python3.10/site-packages/fastapi/middleware/asyncexitstack.py\", line 21, in __call__\n",
      "    raise e\n",
      "  File \"/home/matt/.local/lib/python3.10/site-packages/fastapi/middleware/asyncexitstack.py\", line 18, in __call__\n",
      "    await self.app(scope, receive, send)\n",
      "  File \"/home/matt/.local/lib/python3.10/site-packages/starlette/routing.py\", line 706, in __call__\n",
      "    await route.handle(scope, receive, send)\n",
      "  File \"/home/matt/.local/lib/python3.10/site-packages/starlette/routing.py\", line 276, in handle\n",
      "    await self.app(scope, receive, send)\n",
      "  File \"/home/matt/.local/lib/python3.10/site-packages/starlette/routing.py\", line 66, in app\n",
      "    response = await func(request)\n",
      "  File \"/home/matt/.local/lib/python3.10/site-packages/fastapi/routing.py\", line 255, in app\n",
      "    content = await serialize_response(\n",
      "  File \"/home/matt/.local/lib/python3.10/site-packages/fastapi/routing.py\", line 152, in serialize_response\n",
      "    return jsonable_encoder(response_content)\n",
      "  File \"/home/matt/.local/lib/python3.10/site-packages/fastapi/encoders.py\", line 160, in jsonable_encoder\n",
      "    raise ValueError(errors) from e\n",
      "ValueError: [TypeError(\"'coroutine' object is not iterable\"), TypeError('vars() argument must have __dict__ attribute')]\n"
     ]
    },
    {
     "name": "stdout",
     "output_type": "stream",
     "text": [
      "INFO:     127.0.0.1:59932 - \"GET /thermostat HTTP/1.1\" 200 OK\n",
      "INFO:     127.0.0.1:54430 - \"GET /thermostat/temperature HTTP/1.1\" 200 OK\n",
      "INFO:     127.0.0.1:49284 - \"PUT /thermostat/temperature?temperature=2000 HTTP/1.1\" 200 OK\n",
      "INFO:     127.0.0.1:46490 - \"GET /thermostat/temperature HTTP/1.1\" 200 OK\n"
     ]
    }
   ],
   "source": [
    "# Running the API\n",
    "if __name__ == \"__main__\":\n",
    "    nest_asyncio.apply()\n",
    "    uvicorn.run(app)"
   ],
   "metadata": {
    "collapsed": false,
    "pycharm": {
     "is_executing": true
    }
   }
  },
  {
   "cell_type": "code",
   "execution_count": null,
   "outputs": [],
   "source": [],
   "metadata": {
    "collapsed": false
   }
  }
 ],
 "metadata": {
  "kernelspec": {
   "display_name": "Python 3",
   "language": "python",
   "name": "python3"
  },
  "language_info": {
   "codemirror_mode": {
    "name": "ipython",
    "version": 2
   },
   "file_extension": ".py",
   "mimetype": "text/x-python",
   "name": "python",
   "nbconvert_exporter": "python",
   "pygments_lexer": "ipython2",
   "version": "2.7.6"
  }
 },
 "nbformat": 4,
 "nbformat_minor": 0
}
