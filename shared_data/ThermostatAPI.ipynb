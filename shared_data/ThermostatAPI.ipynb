{
 "cells": [
  {
   "cell_type": "code",
   "execution_count": 13,
   "metadata": {},
   "outputs": [],
   "source": [
    "# Simple thermostat API using FastAPI\n",
    "# importing libraries\n",
    "from fastapi import FastAPI, Depends\n",
    "import uvicorn\n",
    "import nest_asyncio\n",
    "import random\n",
    "import json\n",
    "\n",
    "app = FastAPI()\n"
   ]
  },
  {
   "cell_type": "code",
   "execution_count": 14,
   "metadata": {
    "collapsed": false,
    "jupyter": {
     "outputs_hidden": false
    }
   },
   "outputs": [],
   "source": [
    "# Defining the thermostat class\n",
    "class Thermostat:\n",
    "    def __init__(self,\n",
    "                 name: str,\n",
    "                 temperature: int,\n",
    "                 humidity: int,\n",
    "                 mode: str,\n",
    "                 kb_id: str,\n",
    "                 ):\n",
    "        self.name = name\n",
    "        self.temperature = temperature\n",
    "        self.humidity = humidity\n",
    "        self.mode = mode\n",
    "        self.kb_id = kb_id\n"
   ]
  },
  {
   "cell_type": "code",
   "execution_count": 15,
   "metadata": {
    "collapsed": false,
    "jupyter": {
     "outputs_hidden": false
    }
   },
   "outputs": [],
   "source": [
    "# Creating a thermostat object\n",
    "thermostat = Thermostat(name=\"Thermostat\",\n",
    "                        temperature=20,\n",
    "                        humidity=50,\n",
    "                        mode=\"cool\",\n",
    "                        kb_id=\"http://127.0.0.1:8000/thermostat\",\n",
    "                        )"
   ]
  },
  {
   "cell_type": "code",
   "execution_count": 16,
   "metadata": {
    "collapsed": false,
    "jupyter": {
     "outputs_hidden": false
    }
   },
   "outputs": [
    {
     "data": {
      "text/plain": "{'name': 'Thermostat',\n 'temperature': 20,\n 'humidity': 50,\n 'mode': 'cool',\n 'kb_id': 'http://127.0.0.1:8000/thermostat'}"
     },
     "execution_count": 16,
     "metadata": {},
     "output_type": "execute_result"
    }
   ],
   "source": [
    "thermostat.__dict__"
   ]
  },
  {
   "cell_type": "code",
   "execution_count": 17,
   "metadata": {
    "collapsed": false,
    "jupyter": {
     "outputs_hidden": false
    }
   },
   "outputs": [],
   "source": [
    "# Defining the API endpoints\n",
    "@app.get(\"/\")\n",
    "async def root():\n",
    "    return {\"message\": \"Welcome to the thermostat API\"}\n",
    "\n",
    "\n",
    "@app.get(\"/thermostat\")\n",
    "async def get_thermostat():\n",
    "    return thermostat.__dict__\n",
    "\n",
    "\n",
    "@app.get(\"/thermostat/name\")\n",
    "async def get_name():\n",
    "    return thermostat.name\n",
    "\n",
    "\n",
    "@app.get(\"/thermostat/temperature\")\n",
    "async def get_temperature():\n",
    "    return thermostat.temperature\n",
    "\n",
    "\n",
    "@app.get(\"/thermostat/humidity\")\n",
    "async def get_humidity():\n",
    "    return thermostat.humidity\n",
    "\n",
    "\n",
    "@app.get(\"/thermostat/mode\")\n",
    "async def get_mode():\n",
    "    return thermostat.mode\n",
    "\n",
    "\n",
    "@app.get(\"/thermostat/kb_id\")\n",
    "async def get_kb_id():\n",
    "    return thermostat.kb_id\n",
    "\n",
    "@app.put(\"/thermostat\")\n",
    "async def set_thermostat(commons: Thermostat = Depends()):\n",
    "    thermostat.name = commons.name\n",
    "    thermostat.temperature = commons.temperature\n",
    "    thermostat.humidity = commons.humidity\n",
    "    thermostat.mode = commons.mode\n",
    "    thermostat.kb_id = commons.kb_id\n",
    "\n",
    "    return thermostat.__dict__\n",
    "\n",
    "@app.put(\"/thermostat/temperature\")\n",
    "async def set_temperature(temperature: int):\n",
    "    thermostat.temperature = temperature\n",
    "    return thermostat.temperature\n",
    "\n",
    "\n",
    "@app.put(\"/thermostat/humidity\")\n",
    "async def set_humidity(humidity: int):\n",
    "    thermostat.humidity = humidity\n",
    "    return thermostat.humidity\n",
    "\n",
    "\n",
    "@app.put(\"/thermostat/mode\")\n",
    "async def set_mode(mode: str):\n",
    "    thermostat.mode = mode\n",
    "    return thermostat.mode\n",
    "\n",
    "\n",
    "@app.put(\"/thermostat/name\")\n",
    "async def set_name(name: str):\n",
    "    thermostat.name = name\n",
    "    return thermostat.name\n",
    "\n",
    "@app.put(\"/thermostat/kb_id\")\n",
    "async def set_kb_id(kb_id: str):\n",
    "    thermostat.kb_id = kb_id\n",
    "    return thermostat.kb_id\n"
   ]
  },
  {
   "cell_type": "code",
   "execution_count": 18,
   "outputs": [],
   "source": [
    "# Defining constants\n",
    "\n",
    "# Knowledge engine REST API URL\n",
    "URL = \"http://127.0.0.1:8280/rest\"\n",
    "\n",
    "# Knowledge engine REST API headers\n",
    "HEADERS = {\n",
    "    'Content-Type': 'application/json',\n",
    "    'Knowledge-Base-Id': thermostat.kb_id,\n",
    "}\n"
   ],
   "metadata": {
    "collapsed": false
   }
  },
  {
   "cell_type": "code",
   "execution_count": 26,
   "outputs": [
    {
     "name": "stdout",
     "output_type": "stream",
     "text": [
      "200\n",
      "\n"
     ]
    }
   ],
   "source": [
    "# register API in the knowledge engine\n",
    "import httpx\n",
    "\n",
    "# Creating a smart connector\n",
    "def create_smart_connector():\n",
    "    # Smart connector data\n",
    "    sc_data = {\n",
    "        \"knowledgeBaseId\": thermostat.kb_id,\n",
    "        \"knowledgeBaseName\": thermostat.name,\n",
    "        \"knowledgeBaseDescription\": \"Thermostat API v0.0.1 for the Smart Home\",\n",
    "        \"reasonerEnabled\": \"false\",\n",
    "    }\n",
    "\n",
    "    # Registering the smart connector via the /sc endpoint\n",
    "    response = httpx.post(URL + \"/sc\", headers=HEADERS, json=sc_data)\n",
    "\n",
    "    print(response.status_code)\n",
    "    print(response.text)\n",
    "\n",
    "create_smart_connector()"
   ],
   "metadata": {
    "collapsed": false
   }
  },
  {
   "cell_type": "code",
   "execution_count": 27,
   "outputs": [
    {
     "name": "stdout",
     "output_type": "stream",
     "text": [
      "200\n",
      "[{\"knowledgeBaseId\":\"http://127.0.0.1:8000/thermostat\",\"knowledgeBaseName\":\"Thermostat\",\"knowledgeBaseDescription\":\"Thermostat API v0.0.1 for the Smart Home\",\"reasonerEnabled\":false}]\n"
     ]
    }
   ],
   "source": [
    "# check if the smart connector is registered\n",
    "def check_smart_connector():\n",
    "    response = httpx.get(URL + \"/sc\", headers=HEADERS)\n",
    "    print(response.status_code)\n",
    "    print(response.text)\n",
    "\n",
    "check_smart_connector()\n"
   ],
   "metadata": {
    "collapsed": false
   }
  },
  {
   "cell_type": "code",
   "execution_count": 28,
   "outputs": [
    {
     "name": "stdout",
     "output_type": "stream",
     "text": [
      "200\n",
      "{\"knowledgeInteractionId\":\"http://127.0.0.1:8000/thermostat/interaction/3b7a5002-a2db-4d93-9bca-97ffc46d5d15\"}\n"
     ]
    }
   ],
   "source": [
    "# register an ANSWER Knowledge Interaction with the smart connector\n",
    "def register_answer_ki():\n",
    "    answer_ki_data = {\n",
    "        \"knowledgeInteractionType\": \"AnswerKnowledgeInteraction\",\n",
    "        \"prefixes\": {\"rdf\": \"http://www.w3.org/1999/02/22-rdf-syntax-ns#\",\n",
    "                     \"saref\": \"https://w3id.org/saref#\",\n",
    "                     },\n",
    "\n",
    "        \"graphPattern\": '''?meas rdf:type saref:Measurement .\n",
    "                            ?meas saref:hasValue ?temp .\n",
    "                            ?meas saref:isMeasuredIn saref:TemperatureUnit .\n",
    "                            ?meas saref:hasTimestamp ?timestamp .\n",
    "                            ?meas saref:isMeasurementOf ?room_id .\n",
    "                            ?meas saref:relatesToProperty saref:Temperature .\n",
    "                            ?meas saref:measurementMadeBy ?device_id .'''\n",
    "    }\n",
    "\n",
    "    response = httpx.post(URL + \"/sc/ki\", headers=HEADERS, json=answer_ki_data)\n",
    "    print(response.status_code)\n",
    "    print(response.text)\n",
    "\n",
    "register_answer_ki()\n"
   ],
   "metadata": {
    "collapsed": false
   }
  },
  {
   "cell_type": "code",
   "execution_count": 29,
   "outputs": [
    {
     "name": "stdout",
     "output_type": "stream",
     "text": [
      "200\n",
      "[{\"knowledgeInteractionId\":\"http://127.0.0.1:8000/thermostat/interaction/3b7a5002-a2db-4d93-9bca-97ffc46d5d15\",\"knowledgeInteractionType\":\"AnswerKnowledgeInteraction\",\"communicativeAct\":{\"requiredPurposes\":[\"https://w3id.org/knowledge-engine/InformPurpose\"],\"satisfiedPurposes\":[\"https://w3id.org/knowledge-engine/InformPurpose\"]},\"graphPattern\":\"?meas <http://www.w3.org/1999/02/22-rdf-syntax-ns#type> <https://w3id.org/saref#Measurement> . ?meas <https://w3id.org/saref#hasValue> ?temp . ?meas <https://w3id.org/saref#isMeasuredIn> <https://w3id.org/saref#TemperatureUnit> . ?meas <https://w3id.org/saref#hasTimestamp> ?timestamp . ?meas <https://w3id.org/saref#isMeasurementOf> ?room_id . ?meas <https://w3id.org/saref#relatesToProperty> <https://w3id.org/saref#Temperature> . ?meas <https://w3id.org/saref#measurementMadeBy> ?device_id . \"}]\n"
     ]
    }
   ],
   "source": [
    "# check if the Knowledge Interaction is registered\n",
    "def list_all_kis():\n",
    "    response = httpx.get(URL + \"/sc/ki\", headers=HEADERS)\n",
    "    print(response.status_code)\n",
    "    print(response.text)\n",
    "list_all_kis()\n"
   ],
   "metadata": {
    "collapsed": false
   }
  },
  {
   "cell_type": "code",
   "execution_count": 32,
   "outputs": [
    {
     "name": "stdout",
     "output_type": "stream",
     "text": [
      "409\n",
      "{\"messageType\":\"error\",\"message\":\"Only one connection per Knowledge-Base-Id is allowed and we already have one.\"}\n",
      "{'messageType': 'error', 'message': 'Only one connection per Knowledge-Base-Id is allowed and we already have one.'}\n"
     ]
    },
    {
     "ename": "KeyError",
     "evalue": "'handleRequestId'",
     "output_type": "error",
     "traceback": [
      "\u001B[0;31m---------------------------------------------------------------------------\u001B[0m",
      "\u001B[0;31mKeyError\u001B[0m                                  Traceback (most recent call last)",
      "Input \u001B[0;32mIn [32]\u001B[0m, in \u001B[0;36m<cell line: 22>\u001B[0;34m()\u001B[0m\n\u001B[1;32m     20\u001B[0m     \u001B[38;5;28mprint\u001B[39m(response\u001B[38;5;241m.\u001B[39mtext)\n\u001B[1;32m     21\u001B[0m     \u001B[38;5;28mprint\u001B[39m(response\u001B[38;5;241m.\u001B[39mjson())\n\u001B[0;32m---> 22\u001B[0m \u001B[43mhandle_and_answer\u001B[49m\u001B[43m(\u001B[49m\u001B[43m)\u001B[49m\n",
      "Input \u001B[0;32mIn [32]\u001B[0m, in \u001B[0;36mhandle_and_answer\u001B[0;34m()\u001B[0m\n\u001B[1;32m      5\u001B[0m \u001B[38;5;28mprint\u001B[39m(response\u001B[38;5;241m.\u001B[39mtext)\n\u001B[1;32m      6\u001B[0m \u001B[38;5;28mprint\u001B[39m(response\u001B[38;5;241m.\u001B[39mjson())\n\u001B[0;32m----> 8\u001B[0m handleRequestId \u001B[38;5;241m=\u001B[39m \u001B[43mresponse\u001B[49m\u001B[38;5;241;43m.\u001B[39;49m\u001B[43mjson\u001B[49m\u001B[43m(\u001B[49m\u001B[43m)\u001B[49m\u001B[43m[\u001B[49m\u001B[38;5;124;43m\"\u001B[39;49m\u001B[38;5;124;43mhandleRequestId\u001B[39;49m\u001B[38;5;124;43m\"\u001B[39;49m\u001B[43m]\u001B[49m\n\u001B[1;32m      9\u001B[0m deviceName \u001B[38;5;241m=\u001B[39m response\u001B[38;5;241m.\u001B[39mjson()[\u001B[38;5;124m\"\u001B[39m\u001B[38;5;124mbindingSet\u001B[39m\u001B[38;5;124m\"\u001B[39m][\u001B[38;5;241m0\u001B[39m][\u001B[38;5;124m\"\u001B[39m\u001B[38;5;124mdeviceName\u001B[39m\u001B[38;5;124m\"\u001B[39m]\n\u001B[1;32m     10\u001B[0m answerBindingSet \u001B[38;5;241m=\u001B[39m response\u001B[38;5;241m.\u001B[39mjson()[\u001B[38;5;124m\"\u001B[39m\u001B[38;5;124mbindingSet\u001B[39m\u001B[38;5;124m\"\u001B[39m] \u001B[38;5;66;03m#???\u001B[39;00m\n",
      "\u001B[0;31mKeyError\u001B[0m: 'handleRequestId'"
     ]
    }
   ],
   "source": [
    "# Start waiting for a handle request for the given Knowledge Base Id.\n",
    "def handle_and_answer():\n",
    "    response = httpx.get(URL + \"/sc/handle\", headers=HEADERS)\n",
    "    print(response.status_code)\n",
    "    print(response.text)\n",
    "    print(response.json())\n",
    "\n",
    "    handleRequestId = response.json()[\"handleRequestId\"]\n",
    "    deviceName = response.json()[\"bindingSet\"][0][\"deviceName\"]\n",
    "    answerBindingSet = response.json()[\"bindingSet\"] #???\n",
    "\n",
    "    # Answering the handle request\n",
    "    answer_data = {\n",
    "        \"handleRequestId\": handleRequestId,\n",
    "        \"bindingSet\": answerBindingSet,\n",
    "    }\n",
    "\n",
    "    response = httpx.post(URL + \"/sc/handle\", headers=HEADERS, json=answer_data)\n",
    "    print(response.status_code)\n",
    "    print(response.text)\n",
    "    print(response.json())\n",
    "handle_and_answer()"
   ],
   "metadata": {
    "collapsed": false
   }
  },
  {
   "cell_type": "code",
   "execution_count": null,
   "outputs": [],
   "source": [],
   "metadata": {
    "collapsed": false
   }
  },
  {
   "cell_type": "code",
   "execution_count": null,
   "metadata": {
    "collapsed": false,
    "jupyter": {
     "outputs_hidden": false
    }
   },
   "outputs": [],
   "source": [
    "# Running the API\n",
    "if __name__ == \"__main__\":\n",
    "    nest_asyncio.apply()\n",
    "    #uvicorn.run(app, host=\"0.0.0.0\", port=8001)\n",
    "    uvicorn.run(app)"
   ]
  },
  {
   "cell_type": "code",
   "execution_count": null,
   "outputs": [],
   "source": [],
   "metadata": {
    "collapsed": false
   }
  }
 ],
 "metadata": {
  "kernelspec": {
   "display_name": "Python 3 (ipykernel)",
   "language": "python",
   "name": "python3"
  },
  "language_info": {
   "codemirror_mode": {
    "name": "ipython",
    "version": 3
   },
   "file_extension": ".py",
   "mimetype": "text/x-python",
   "name": "python",
   "nbconvert_exporter": "python",
   "pygments_lexer": "ipython3",
   "version": "3.10.8"
  }
 },
 "nbformat": 4,
 "nbformat_minor": 4
}
