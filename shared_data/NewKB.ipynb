{
 "cells": [
  {
   "cell_type": "code",
   "execution_count": 8,
   "outputs": [],
   "source": [
    "import random\n",
    "import json"
   ],
   "metadata": {
    "collapsed": false
   }
  },
  {
   "cell_type": "code",
   "execution_count": 9,
   "outputs": [],
   "source": [
    "\n",
    "global status\n",
    "global DEVICE_ID\n",
    "DEVICE_ID = \"Lamp_1\"\n",
    "status = \"off\"\n",
    "power_consumption = 0"
   ],
   "metadata": {
    "collapsed": false
   }
  },
  {
   "cell_type": "code",
   "execution_count": 10,
   "outputs": [
    {
     "ename": "NameError",
     "evalue": "name 'REQUEST' is not defined",
     "output_type": "error",
     "traceback": [
      "\u001B[0;31m---------------------------------------------------------------------------\u001B[0m",
      "\u001B[0;31mNameError\u001B[0m                                 Traceback (most recent call last)",
      "Input \u001B[0;32mIn [10]\u001B[0m, in \u001B[0;36m<cell line: 2>\u001B[0;34m()\u001B[0m\n\u001B[1;32m      1\u001B[0m \u001B[38;5;66;03m# GET /lamp\u001B[39;00m\n\u001B[0;32m----> 2\u001B[0m req \u001B[38;5;241m=\u001B[39m json\u001B[38;5;241m.\u001B[39mloads(\u001B[43mREQUEST\u001B[49m)\n\u001B[1;32m      3\u001B[0m \u001B[38;5;28;01mdef\u001B[39;00m \u001B[38;5;21mlamp_status\u001B[39m():\n\u001B[1;32m      4\u001B[0m     \u001B[38;5;28;01mif\u001B[39;00m status \u001B[38;5;241m==\u001B[39m \u001B[38;5;124m\"\u001B[39m\u001B[38;5;124moff\u001B[39m\u001B[38;5;124m\"\u001B[39m:\n",
      "\u001B[0;31mNameError\u001B[0m: name 'REQUEST' is not defined"
     ]
    }
   ],
   "source": [
    "# GET /lamp\n",
    "req = json.loads(REQUEST)\n",
    "def lamp_status():\n",
    "    if status == \"off\":\n",
    "        power_consumption = 0\n",
    "    else:\n",
    "        power_consumption = random.randint(0, 10)\n",
    "    print(json.dumps({\"DeviceID\":DEVICE_ID,\"status\": status, \"power_consumption\": power_consumption}))\n"
   ],
   "metadata": {
    "collapsed": false
   }
  },
  {
   "cell_type": "code",
   "execution_count": 24,
   "outputs": [],
   "source": [
    "# GET /lamp/power_consumption\n",
    "def power_consumption():\n",
    "    if status == \"off\":\n",
    "        power_consumption = 0\n",
    "    else:\n",
    "        power_consumption = random.randint(0, 10)\n",
    "    print(json.dumps({\"DeviceID\":DEVICE_ID,\"power_consumption\": power_consumption}))\n"
   ],
   "metadata": {
    "collapsed": false
   }
  },
  {
   "cell_type": "code",
   "execution_count": 25,
   "outputs": [],
   "source": [
    "# GET /lamp/toggle\n",
    "def toggle_lamp():\n",
    "    if status == \"on\":\n",
    "        status = \"off\"\n",
    "    else:\n",
    "        status = \"on\"\n",
    "    print(json.dumps({\"DeviceID\":DEVICE_ID,\"status\": status}))"
   ],
   "metadata": {
    "collapsed": false
   }
  },
  {
   "cell_type": "code",
   "execution_count": 11,
   "outputs": [
    {
     "name": "stdout",
     "output_type": "stream",
     "text": [
      "[KernelGatewayApp] Kernel started: e2f61985-5fa0-415f-b8d1-d96d5b783e53, name: python3\r\n",
      "^C\r\n",
      "Traceback (most recent call last):\r\n",
      "  File \"/home/matt/.local/bin/jupyter-kernelgateway\", line 8, in <module>\r\n",
      "    sys.exit(launch_instance())\r\n",
      "  File \"/home/matt/.local/lib/python3.10/site-packages/jupyter_core/application.py\", line 264, in launch_instance\r\n",
      "    return super(JupyterApp, cls).launch_instance(argv=argv, **kwargs)\r\n",
      "  File \"/home/matt/.local/lib/python3.10/site-packages/traitlets/config/application.py\", line 845, in launch_instance\r\n",
      "    app.initialize(argv)\r\n",
      "  File \"/home/matt/.local/lib/python3.10/site-packages/kernel_gateway/gatewayapp.py\", line 395, in initialize\r\n",
      "    self.init_configurables()\r\n",
      "  File \"/home/matt/.local/lib/python3.10/site-packages/kernel_gateway/gatewayapp.py\", line 449, in init_configurables\r\n",
      "    self.personality.init_configurables()\r\n",
      "  File \"/home/matt/.local/lib/python3.10/site-packages/kernel_gateway/notebook_http/__init__.py\", line 77, in init_configurables\r\n",
      "    self.kernel_pool = ManagedKernelPool(\r\n",
      "  File \"/home/matt/.local/lib/python3.10/site-packages/kernel_gateway/services/kernels/pool.py\", line 69, in __init__\r\n",
      "    super(ManagedKernelPool, self).__init__(prespawn_count, kernel_manager)\r\n",
      "  File \"/home/matt/.local/lib/python3.10/site-packages/kernel_gateway/services/kernels/pool.py\", line 31, in __init__\r\n",
      "    self.kernel_manager.start_seeded_kernel()\r\n",
      "  File \"/home/matt/.local/lib/python3.10/site-packages/kernel_gateway/services/kernels/manager.py\", line 73, in start_seeded_kernel\r\n",
      "    return ioloop.IOLoop.current().run_sync(start)\r\n",
      "  File \"/home/matt/.local/lib/python3.10/site-packages/tornado/ioloop.py\", line 524, in run_sync\r\n",
      "    self.start()\r\n",
      "  File \"/home/matt/.local/lib/python3.10/site-packages/tornado/platform/asyncio.py\", line 199, in start\r\n",
      "    self.asyncio_loop.run_forever()\r\n",
      "  File \"/usr/lib/python3.10/asyncio/base_events.py\", line 603, in run_forever\r\n",
      "    self._run_once()\r\n",
      "  File \"/home/matt/.local/lib/python3.10/site-packages/nest_asyncio.py\", line 111, in _run_once\r\n",
      "    handle._run()\r\n",
      "  File \"/usr/lib/python3.10/asyncio/events.py\", line 80, in _run\r\n",
      "    self._context.run(self._callback, *self._args)\r\n",
      "  File \"/home/matt/.local/lib/python3.10/site-packages/tornado/ioloop.py\", line 688, in <lambda>\r\n",
      "    lambda f: self._run_callback(functools.partial(callback, future))\r\n",
      "  File \"/home/matt/.local/lib/python3.10/site-packages/tornado/ioloop.py\", line 741, in _run_callback\r\n",
      "    ret = callback()\r\n",
      "  File \"/home/matt/.local/lib/python3.10/site-packages/tornado/gen.py\", line 814, in inner\r\n",
      "    self.ctx_run(self.run)\r\n",
      "  File \"/home/matt/.local/lib/python3.10/site-packages/tornado/gen.py\", line 775, in run\r\n",
      "    yielded = self.gen.send(value)\r\n",
      "  File \"/home/matt/.local/lib/python3.10/site-packages/kernel_gateway/services/kernels/manager.py\", line 104, in start_kernel\r\n",
      "    msg = client.get_shell_msg()\r\n",
      "  File \"/home/matt/.local/lib/python3.10/site-packages/jupyter_client/utils.py\", line 26, in wrapped\r\n",
      "    raise e\r\n",
      "  File \"/home/matt/.local/lib/python3.10/site-packages/jupyter_client/utils.py\", line 23, in wrapped\r\n",
      "    return loop.run_until_complete(future)\r\n",
      "  File \"/home/matt/.local/lib/python3.10/site-packages/nest_asyncio.py\", line 75, in run_until_complete\r\n",
      "    self._run_once()\r\n",
      "  File \"/home/matt/.local/lib/python3.10/site-packages/nest_asyncio.py\", line 98, in _run_once\r\n",
      "    event_list = self._selector.select(timeout)\r\n",
      "  File \"/usr/lib/python3.10/selectors.py\", line 469, in select\r\n",
      "    fd_event_list = self._selector.poll(timeout, max_ev)\r\n",
      "KeyboardInterrupt\r\n"
     ]
    }
   ],
   "source": [
    "!jupyter kernelgateway --KernelGatewayApp.api='kernel_gateway.notebook_http' --KernelGatewayApp.seed_uri='NewKB.ipynb' --KernelGatewayApp.ip=\"loclahost\""
   ],
   "metadata": {
    "collapsed": false
   }
  },
  {
   "cell_type": "code",
   "execution_count": null,
   "outputs": [],
   "source": [
    "#curl \"http://127.0.0.1:8888/convert?angle=90\""
   ],
   "metadata": {
    "collapsed": false
   }
  }
 ],
 "metadata": {
  "kernelspec": {
   "display_name": "Python 3",
   "language": "python",
   "name": "python3"
  },
  "language_info": {
   "codemirror_mode": {
    "name": "ipython",
    "version": 2
   },
   "file_extension": ".py",
   "mimetype": "text/x-python",
   "name": "python",
   "nbconvert_exporter": "python",
   "pygments_lexer": "ipython2",
   "version": "2.7.6"
  }
 },
 "nbformat": 4,
 "nbformat_minor": 0
}
