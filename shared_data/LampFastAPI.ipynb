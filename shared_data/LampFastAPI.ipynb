{
 "cells": [
  {
   "cell_type": "code",
   "execution_count": 45,
   "metadata": {
    "collapsed": true
   },
   "outputs": [],
   "source": [
    "# yet another take on the simple lamp API but this time using FastAPI\n",
    "# importing libraries\n",
    "from fastapi import FastAPI\n",
    "import uvicorn\n",
    "import nest_asyncio\n",
    "import random\n",
    "import json\n",
    "\n",
    "app = FastAPI()"
   ]
  },
  {
   "cell_type": "code",
   "execution_count": 46,
   "outputs": [],
   "source": [
    "# defining some variables\n",
    "global status\n",
    "global DEVICE_ID\n",
    "DEVICE_ID = \"Lamp_1\"\n",
    "status = \"off\"\n",
    "if status == \"on\":\n",
    "    power_consumption = random.randint(1, 100)\n",
    "else:\n",
    "    power_consumption = 0"
   ],
   "metadata": {
    "collapsed": false
   }
  },
  {
   "cell_type": "code",
   "execution_count": 47,
   "outputs": [],
   "source": [
    "@app.get(\"/\")\n",
    "async def root():\n",
    "    return {\"message\": \"welcome to Lamp API\"}"
   ],
   "metadata": {
    "collapsed": false
   }
  },
  {
   "cell_type": "code",
   "execution_count": 48,
   "outputs": [],
   "source": [
    "# GET request to get all the information about the lamp\n",
    "@app.get(\"/lamp\")\n",
    "async def get_lamp():\n",
    "    return {\n",
    "        \"device_id\": DEVICE_ID,\n",
    "        \"status\": status,\n",
    "        \"power_consumption\": power_consumption\n",
    "    }"
   ],
   "metadata": {
    "collapsed": false
   }
  },
  {
   "cell_type": "code",
   "execution_count": 49,
   "outputs": [],
   "source": [
    "# GET request to get the status of the lamp\n",
    "@app.get(\"/lamp/status\")\n",
    "async def get_status():\n",
    "    return {\"DeviceID\":DEVICE_ID, \"status\": status}"
   ],
   "metadata": {
    "collapsed": false
   }
  },
  {
   "cell_type": "code",
   "execution_count": 50,
   "outputs": [],
   "source": [
    "# GET request to get the power consumption of the lamp\n",
    "@app.get(\"/lamp/power_consumption\")\n",
    "async def get_power_consumption():\n",
    "    return {\"DeviceID\":DEVICE_ID, \"power_consumption\": power_consumption}"
   ],
   "metadata": {
    "collapsed": false
   }
  },
  {
   "cell_type": "code",
   "execution_count": 51,
   "outputs": [],
   "source": [
    "# GET request to toggle the status of the lamp\n",
    "@app.get(\"/lamp/toggle\")\n",
    "async def toggle():\n",
    "    global status\n",
    "    if status == \"on\":\n",
    "        status = \"off\"\n",
    "    else:\n",
    "        status = \"on\"\n",
    "    return {\"DeviceID\":DEVICE_ID, \"status\": status}"
   ],
   "metadata": {
    "collapsed": false
   }
  },
  {
   "cell_type": "code",
   "execution_count": 52,
   "outputs": [],
   "source": [
    "# POST request to change the status of the lamp\n",
    "@app.post(\"/lamp/status/{new_status}\")\n",
    "async def post_status(new_status: str):\n",
    "    # validating the new status\n",
    "    if new_status not in [\"on\", \"off\"]:\n",
    "        return {\"error\": \"invalid status\"}\n",
    "    status = new_status\n",
    "    return {\"DeviceID\":DEVICE_ID, \"status\": status}"
   ],
   "metadata": {
    "collapsed": false
   }
  },
  {
   "cell_type": "code",
   "execution_count": 53,
   "outputs": [],
   "source": [
    "# GET request to get the device ID of the lamp\n",
    "@app.get(\"/lamp/device_id\")\n",
    "async def get_device_id():\n",
    "    return {\"DeviceID\":DEVICE_ID}"
   ],
   "metadata": {
    "collapsed": false
   }
  },
  {
   "cell_type": "code",
   "execution_count": 54,
   "outputs": [
    {
     "name": "stderr",
     "output_type": "stream",
     "text": [
      "INFO:     Started server process [11778]\n",
      "INFO:     Waiting for application startup.\n",
      "INFO:     Application startup complete.\n",
      "INFO:     Uvicorn running on http://127.0.0.1:8000 (Press CTRL+C to quit)\n"
     ]
    },
    {
     "name": "stdout",
     "output_type": "stream",
     "text": [
      "INFO:     127.0.0.1:45714 - \"GET /lamp/toggle HTTP/1.1\" 200 OK\n",
      "INFO:     127.0.0.1:45714 - \"GET /lamp/toggle HTTP/1.1\" 200 OK\n",
      "INFO:     127.0.0.1:45714 - \"GET /lamp/toggle HTTP/1.1\" 200 OK\n",
      "INFO:     127.0.0.1:45714 - \"GET /lamp/toggle HTTP/1.1\" 200 OK\n",
      "INFO:     127.0.0.1:33066 - \"GET /lamp/status HTTP/1.1\" 200 OK\n",
      "INFO:     127.0.0.1:33066 - \"GET /lamp/status HTTP/1.1\" 200 OK\n",
      "INFO:     127.0.0.1:33066 - \"GET /lamp/status HTTP/1.1\" 200 OK\n",
      "INFO:     127.0.0.1:35962 - \"GET /lamp/status/ple HTTP/1.1\" 405 Method Not Allowed\n",
      "INFO:     127.0.0.1:48060 - \"GET /lamp/status/on HTTP/1.1\" 405 Method Not Allowed\n",
      "INFO:     127.0.0.1:58064 - \"GET /lamp/status/on HTTP/1.1\" 405 Method Not Allowed\n",
      "INFO:     127.0.0.1:59120 - \"POST /lamp/status/on HTTP/1.1\" 200 OK\n",
      "INFO:     127.0.0.1:52458 - \"POST /lamp/status/on HTTP/1.1\" 200 OK\n",
      "INFO:     127.0.0.1:47806 - \"POST /lamp/status/off HTTP/1.1\" 200 OK\n",
      "INFO:     127.0.0.1:41288 - \"POST /lamp/status/of HTTP/1.1\" 200 OK\n",
      "INFO:     127.0.0.1:35216 - \"GET /lamp/status HTTP/1.1\" 200 OK\n",
      "INFO:     127.0.0.1:35216 - \"GET /lamp/status HTTP/1.1\" 200 OK\n",
      "INFO:     127.0.0.1:41326 - \"GET /lamp/device_id HTTP/1.1\" 200 OK\n"
     ]
    },
    {
     "name": "stderr",
     "output_type": "stream",
     "text": [
      "INFO:     Shutting down\n",
      "INFO:     Waiting for application shutdown.\n",
      "INFO:     Application shutdown complete.\n",
      "INFO:     Finished server process [11778]\n"
     ]
    }
   ],
   "source": [
    "# boilerplate code for running the http server\n",
    "if __name__ == \"__main__\":\n",
    "    nest_asyncio.apply()\n",
    "    uvicorn.run(app)"
   ],
   "metadata": {
    "collapsed": false
   }
  },
  {
   "cell_type": "code",
   "execution_count": 54,
   "outputs": [],
   "source": [],
   "metadata": {
    "collapsed": false
   }
  }
 ],
 "metadata": {
  "kernelspec": {
   "display_name": "Python 3",
   "language": "python",
   "name": "python3"
  },
  "language_info": {
   "codemirror_mode": {
    "name": "ipython",
    "version": 2
   },
   "file_extension": ".py",
   "mimetype": "text/x-python",
   "name": "python",
   "nbconvert_exporter": "python",
   "pygments_lexer": "ipython2",
   "version": "2.7.6"
  }
 },
 "nbformat": 4,
 "nbformat_minor": 0
}
