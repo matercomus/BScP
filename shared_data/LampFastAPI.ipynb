{
 "cells": [
  {
   "cell_type": "code",
   "execution_count": 175,
   "metadata": {
    "collapsed": true
   },
   "outputs": [],
   "source": [
    "# yet another take on the simple lamp API but this time using FastAPI\n",
    "# importing libraries\n",
    "from fastapi import FastAPI\n",
    "import uvicorn\n",
    "import nest_asyncio\n",
    "import random\n",
    "import json\n",
    "\n",
    "app = FastAPI()"
   ]
  },
  {
   "cell_type": "code",
   "execution_count": 176,
   "outputs": [],
   "source": [
    "# defining some variables\n",
    "global DEVICE_ID\n",
    "global status\n",
    "DEVICE_ID = \"Lamp_1\"\n",
    "status = \"off\"\n",
    "# function for returning a random power consumption value based on the status of the lamp\n",
    "def calc_power_consumption(lamp_status):\n",
    "    if lamp_status == \"on\":\n",
    "        print(lamp_status)\n",
    "        return random.randint(10, 100)\n",
    "    else:\n",
    "        return 0\n"
   ],
   "metadata": {
    "collapsed": false
   }
  },
  {
   "cell_type": "code",
   "execution_count": 177,
   "outputs": [],
   "source": [
    "@app.get(\"/\")\n",
    "async def root():\n",
    "    return {\"message\": \"welcome to Lamp API\"}"
   ],
   "metadata": {
    "collapsed": false
   }
  },
  {
   "cell_type": "code",
   "execution_count": 178,
   "outputs": [],
   "source": [
    "# GET request to get all the information about the lamp\n",
    "@app.get(\"/lamp\")\n",
    "async def get_lamp():\n",
    "    return {\n",
    "        \"device_id\": DEVICE_ID,\n",
    "        \"status\": status,\n",
    "        \"power_consumption\": calc_power_consumption(status)\n",
    "    }"
   ],
   "metadata": {
    "collapsed": false
   }
  },
  {
   "cell_type": "code",
   "execution_count": 179,
   "outputs": [],
   "source": [
    "# GET request to get the status of the lamp\n",
    "@app.get(\"/lamp/status\")\n",
    "async def get_status():\n",
    "    return {\"DeviceID\":DEVICE_ID, \"status\": status}"
   ],
   "metadata": {
    "collapsed": false
   }
  },
  {
   "cell_type": "code",
   "execution_count": 180,
   "outputs": [],
   "source": [
    "# GET request to get the power consumption of the lamp\n",
    "@app.get(\"/lamp/power_consumption\")\n",
    "async def get_power_consumption():\n",
    "    return {\"DeviceID\":DEVICE_ID, \"power_consumption\": calc_power_consumption(status)}"
   ],
   "metadata": {
    "collapsed": false
   }
  },
  {
   "cell_type": "code",
   "execution_count": 181,
   "outputs": [],
   "source": [
    "# GET request to toggle the status of the lamp\n",
    "@app.get(\"/lamp/toggle\")\n",
    "async def toggle():\n",
    "    global status\n",
    "    if status == \"on\":\n",
    "        status = \"off\"\n",
    "    else:\n",
    "        status = \"on\"\n",
    "    return {\"DeviceID\":DEVICE_ID, \"status\": status}"
   ],
   "metadata": {
    "collapsed": false
   }
  },
  {
   "cell_type": "code",
   "execution_count": 182,
   "outputs": [],
   "source": [
    "# POST request to change the status of the lamp\n",
    "@app.post(\"/lamp/status/{new_status}\")\n",
    "async def post_status(new_status: str):\n",
    "    global status\n",
    "    # validating the new status\n",
    "    if new_status not in [\"on\", \"off\"]:\n",
    "        return {\"error\": \"invalid status\"}\n",
    "    status = new_status\n",
    "    return {\"DeviceID\":DEVICE_ID, \"status\": status}"
   ],
   "metadata": {
    "collapsed": false
   }
  },
  {
   "cell_type": "code",
   "execution_count": 183,
   "outputs": [],
   "source": [
    "# GET request to get the device ID of the lamp\n",
    "@app.get(\"/lamp/device_id\")\n",
    "async def get_device_id():\n",
    "    return {\"DeviceID\":DEVICE_ID}"
   ],
   "metadata": {
    "collapsed": false
   }
  },
  {
   "cell_type": "code",
   "execution_count": 184,
   "outputs": [
    {
     "name": "stderr",
     "output_type": "stream",
     "text": [
      "INFO:     Started server process [11778]\n",
      "INFO:     Waiting for application startup.\n",
      "INFO:     Application startup complete.\n",
      "INFO:     Uvicorn running on http://127.0.0.1:8000 (Press CTRL+C to quit)\n"
     ]
    },
    {
     "name": "stdout",
     "output_type": "stream",
     "text": [
      "INFO:     127.0.0.1:41356 - \"GET /lamp HTTP/1.1\" 200 OK\n",
      "INFO:     127.0.0.1:41356 - \"GET /lamp HTTP/1.1\" 200 OK\n",
      "INFO:     127.0.0.1:41356 - \"GET /lamp HTTP/1.1\" 200 OK\n",
      "INFO:     127.0.0.1:44902 - \"POST /lamp/status/on HTTP/1.1\" 200 OK\n",
      "on\n",
      "INFO:     127.0.0.1:48352 - \"GET /lamp HTTP/1.1\" 200 OK\n",
      "on\n",
      "INFO:     127.0.0.1:48352 - \"GET /lamp HTTP/1.1\" 200 OK\n",
      "on\n",
      "INFO:     127.0.0.1:48352 - \"GET /lamp HTTP/1.1\" 200 OK\n",
      "INFO:     127.0.0.1:48364 - \"POST /lamp/status/on HTTP/1.1\" 200 OK\n",
      "on\n",
      "INFO:     127.0.0.1:48368 - \"GET /lamp HTTP/1.1\" 200 OK\n",
      "on\n",
      "INFO:     127.0.0.1:48368 - \"GET /lamp HTTP/1.1\" 200 OK\n",
      "on\n",
      "INFO:     127.0.0.1:42202 - \"GET /lamp HTTP/1.1\" 200 OK\n"
     ]
    },
    {
     "name": "stderr",
     "output_type": "stream",
     "text": [
      "INFO:     Shutting down\n",
      "INFO:     Waiting for application shutdown.\n",
      "INFO:     Application shutdown complete.\n",
      "INFO:     Finished server process [11778]\n"
     ]
    }
   ],
   "source": [
    "# boilerplate code for running the http server\n",
    "if __name__ == \"__main__\":\n",
    "    nest_asyncio.apply()\n",
    "    uvicorn.run(app)"
   ],
   "metadata": {
    "collapsed": false
   }
  },
  {
   "cell_type": "code",
   "execution_count": 184,
   "outputs": [],
   "source": [],
   "metadata": {
    "collapsed": false
   }
  }
 ],
 "metadata": {
  "kernelspec": {
   "display_name": "Python 3",
   "language": "python",
   "name": "python3"
  },
  "language_info": {
   "codemirror_mode": {
    "name": "ipython",
    "version": 2
   },
   "file_extension": ".py",
   "mimetype": "text/x-python",
   "name": "python",
   "nbconvert_exporter": "python",
   "pygments_lexer": "ipython2",
   "version": "2.7.6"
  }
 },
 "nbformat": 4,
 "nbformat_minor": 0
}
