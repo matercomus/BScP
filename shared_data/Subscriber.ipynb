{
 "cells": [
  {
   "cell_type": "code",
   "execution_count": 33,
   "metadata": {
    "collapsed": true
   },
   "outputs": [],
   "source": [
    "# This notebook demonstrates how to subscribe to a KE and perform an ASK KI"
   ]
  },
  {
   "cell_type": "code",
   "execution_count": 34,
   "outputs": [],
   "source": [
    "# Defining constants\n",
    "\n",
    "# Knowledge engine REST API URL\n",
    "URL = \"http://127.0.0.1:8280/rest\"\n",
    "\n",
    "# Knowledge Base ID\n",
    "KB_ID = \"http://127.0.0.1:8000/subscriber\"\n",
    "\n",
    "# Knowledge engine REST API headers\n",
    "HEADERS = {\n",
    "    'Content-Type': 'application/json',\n",
    "    'Knowledge-Base-Id': KB_ID,\n",
    "}"
   ],
   "metadata": {
    "collapsed": false
   }
  },
  {
   "cell_type": "code",
   "execution_count": 35,
   "outputs": [
    {
     "name": "stdout",
     "output_type": "stream",
     "text": [
      "200\n",
      "\n"
     ]
    }
   ],
   "source": [
    "\n",
    "# register API in the knowledge engine\n",
    "import httpx\n",
    "\n",
    "# Creating a smart connector\n",
    "def create_smart_connector():\n",
    "    # Smart connector data\n",
    "    sc_data = {\n",
    "        \"knowledgeBaseId\": KB_ID,\n",
    "        \"knowledgeBaseName\": \"Subscriber\",\n",
    "        \"knowledgeBaseDescription\": \"Subscriber\",\n",
    "        \"reasonerEnabled\": \"false\",\n",
    "    }\n",
    "\n",
    "    # Registering the smart connector via the /sc endpoint\n",
    "    response = httpx.post(URL + \"/sc\", headers=HEADERS, json=sc_data)\n",
    "\n",
    "    print(response.status_code)\n",
    "    print(response.text)\n",
    "\n",
    "create_smart_connector()\n"
   ],
   "metadata": {
    "collapsed": false
   }
  },
  {
   "cell_type": "code",
   "execution_count": 36,
   "outputs": [
    {
     "name": "stdout",
     "output_type": "stream",
     "text": [
      "200\n",
      "[{\"knowledgeBaseId\":\"http://127.0.0.1:8000/subscriber\",\"knowledgeBaseName\":\"Subscriber\",\"knowledgeBaseDescription\":\"Subscriber\",\"reasonerEnabled\":false}]\n"
     ]
    }
   ],
   "source": [
    "\n",
    "# check if the smart connector is registered\n",
    "def check_smart_connector():\n",
    "    response = httpx.get(URL + \"/sc\", headers=HEADERS)\n",
    "    print(response.status_code)\n",
    "    print(response.text)\n",
    "\n",
    "check_smart_connector()\n"
   ],
   "metadata": {
    "collapsed": false
   }
  },
  {
   "cell_type": "code",
   "execution_count": 37,
   "outputs": [
    {
     "name": "stdout",
     "output_type": "stream",
     "text": [
      "200\n",
      "{\"knowledgeInteractionId\":\"http://127.0.0.1:8000/subscriber/interaction/d1d1bda9-271c-44b3-85e0-176b3a7b012f\"}\n"
     ]
    }
   ],
   "source": [
    "# register an ASK Knowledge Interaction with the smart connector\n",
    "def register_ask_ki():\n",
    "    ask_ki_data = {\n",
    "        \"knowledgeInteractionType\": \"AskKnowledgeInteraction\",\n",
    "        \"prefixes\": {\"rdf\": \"http://www.w3.org/1999/02/22-rdf-syntax-ns#\",\n",
    "                     \"saref\": \"https://w3id.org/saref#\",\n",
    "                     },\n",
    "\n",
    "        \"graphPattern\": '''?meas rdf:type saref:Measurement .\n",
    "                            ?meas saref:hasValue ?temp .\n",
    "                            ?meas saref:isMeasuredIn saref:TemperatureUnit .\n",
    "                            ?meas saref:hasTimestamp ?timestamp .\n",
    "                            ?meas saref:isMeasurementOf ?room_id .\n",
    "                            ?meas saref:relatesToProperty saref:Temperature .\n",
    "                            ?meas saref:measurementMadeBy ?device_id .'''\n",
    "    }\n",
    "\n",
    "    response = httpx.post(URL + \"/sc/ki\", headers=HEADERS, json=ask_ki_data)\n",
    "    print(response.status_code)\n",
    "    print(response.text)\n",
    "\n",
    "register_ask_ki()\n"
   ],
   "metadata": {
    "collapsed": false
   }
  },
  {
   "cell_type": "code",
   "execution_count": 38,
   "outputs": [
    {
     "data": {
      "text/plain": "[{'knowledgeInteractionId': 'http://127.0.0.1:8000/subscriber/interaction/d1d1bda9-271c-44b3-85e0-176b3a7b012f',\n  'knowledgeInteractionType': 'AskKnowledgeInteraction',\n  'communicativeAct': {'requiredPurposes': ['https://w3id.org/knowledge-engine/InformPurpose'],\n   'satisfiedPurposes': ['https://w3id.org/knowledge-engine/InformPurpose']},\n  'graphPattern': '?meas <http://www.w3.org/1999/02/22-rdf-syntax-ns#type> <https://w3id.org/saref#Measurement> . ?meas <https://w3id.org/saref#hasValue> ?temp . ?meas <https://w3id.org/saref#isMeasuredIn> <https://w3id.org/saref#TemperatureUnit> . ?meas <https://w3id.org/saref#hasTimestamp> ?timestamp . ?meas <https://w3id.org/saref#isMeasurementOf> ?room_id . ?meas <https://w3id.org/saref#relatesToProperty> <https://w3id.org/saref#Temperature> . ?meas <https://w3id.org/saref#measurementMadeBy> ?device_id . '}]"
     },
     "execution_count": 38,
     "metadata": {},
     "output_type": "execute_result"
    }
   ],
   "source": [
    "# check if the Knowledge Interaction is registered\n",
    "def list_all_kis():\n",
    "    response = httpx.get(URL + \"/sc/ki\", headers=HEADERS)\n",
    "    return response.json()\n",
    "list_all_kis()\n",
    "\n"
   ],
   "metadata": {
    "collapsed": false
   }
  },
  {
   "cell_type": "code",
   "execution_count": 39,
   "outputs": [
    {
     "data": {
      "text/plain": "'http://127.0.0.1:8000/subscriber/interaction/d1d1bda9-271c-44b3-85e0-176b3a7b012f'"
     },
     "execution_count": 39,
     "metadata": {},
     "output_type": "execute_result"
    }
   ],
   "source": [
    "list_all_kis()[-1]['knowledgeInteractionId']"
   ],
   "metadata": {
    "collapsed": false
   }
  },
  {
   "cell_type": "code",
   "execution_count": 40,
   "outputs": [
    {
     "name": "stdout",
     "output_type": "stream",
     "text": [
      "200\n",
      "{\"bindingSet\":[],\"exchangeInfo\":[{\"initiator\":\"knowledgeBase\",\"knowledgeBaseId\":\"http://127.0.0.1:8000/thermostat\",\"knowledgeInteractionId\":\"http://127.0.0.1:8000/thermostat/interaction/f2f54847-55be-4102-9c3e-5ae7a08ceba8\",\"exchangeStart\":\"2023-02-24T09:45:36.248+00:00\",\"exchangeEnd\":\"2023-02-24T09:45:36.777+00:00\",\"status\":\"SUCCEEDED\",\"bindingSet\":[]}]}\n"
     ]
    }
   ],
   "source": [
    "# Asking the question\n",
    "def ask_ki():\n",
    "    ki_id = list_all_kis()[-1]['knowledgeInteractionId']\n",
    "    ask_headers = {\n",
    "        #'Knowledge-Base-Id': \"http://127.0.0.1:8000/thermostat\",\n",
    "        'Knowledge-Base-Id': KB_ID,\n",
    "        'Knowledge-Interaction-Id': ki_id,\n",
    "    }\n",
    "\n",
    "    ask_data = []\n",
    "\n",
    "    response = httpx.post(URL + \"/sc/ask\", headers=ask_headers, json=ask_data, timeout=None)\n",
    "\n",
    "    print(response.status_code)\n",
    "    print(response.text)\n",
    "\n",
    "ask_ki()"
   ],
   "metadata": {
    "collapsed": false
   }
  },
  {
   "cell_type": "code",
   "execution_count": 71,
   "outputs": [],
   "source": [],
   "metadata": {
    "collapsed": false
   }
  }
 ],
 "metadata": {
  "kernelspec": {
   "display_name": "Python 3",
   "language": "python",
   "name": "python3"
  },
  "language_info": {
   "codemirror_mode": {
    "name": "ipython",
    "version": 2
   },
   "file_extension": ".py",
   "mimetype": "text/x-python",
   "name": "python",
   "nbconvert_exporter": "python",
   "pygments_lexer": "ipython2",
   "version": "2.7.6"
  }
 },
 "nbformat": 4,
 "nbformat_minor": 0
}
